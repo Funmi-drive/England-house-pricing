{
 "cells": [
  {
   "cell_type": "markdown",
   "metadata": {},
   "source": [
    "# ENGLAND PROPERTIES PRICES"
   ]
  },
  {
   "cell_type": "markdown",
   "metadata": {},
   "source": [
    "Data source: https://www.kaggle.com/arnavkulkarni/housing-prices-in-london "
   ]
  },
  {
   "cell_type": "markdown",
   "metadata": {},
   "source": [
    "## OBJECTIVES"
   ]
  },
  {
   "cell_type": "markdown",
   "metadata": {},
   "source": [
    "#### The dataset used in this notebook comprises of various property listings in England. The objectives of this notebook are as follows:\n",
    "\n",
    "- Perform descriptive statistics on the dataset.\n",
    "- Observations and assumptions of linear models.\n",
    "- Predict the price of the houses using machine learning regression models. \n",
    "- Model comparison and evaluation."
   ]
  },
  {
   "cell_type": "markdown",
   "metadata": {},
   "source": [
    "## SECTION 1: DESCRIPTIVE STATISTICS ANALYSIS"
   ]
  },
  {
   "cell_type": "markdown",
   "metadata": {},
   "source": [
    "##### Importing needed libraries"
   ]
  },
  {
   "cell_type": "code",
   "execution_count": 1,
   "metadata": {},
   "outputs": [],
   "source": [
    "import pandas as pd\n",
    "import numpy as np\n",
    "import seaborn as sns\n",
    "import matplotlib.pyplot as plt\n",
    "\n",
    "%matplotlib inline"
   ]
  },
  {
   "cell_type": "markdown",
   "metadata": {},
   "source": [
    "##### Reading and getting information from the london dataset"
   ]
  },
  {
   "cell_type": "code",
   "execution_count": 2,
   "metadata": {},
   "outputs": [
    {
     "data": {
      "text/html": [
       "<div>\n",
       "<style scoped>\n",
       "    .dataframe tbody tr th:only-of-type {\n",
       "        vertical-align: middle;\n",
       "    }\n",
       "\n",
       "    .dataframe tbody tr th {\n",
       "        vertical-align: top;\n",
       "    }\n",
       "\n",
       "    .dataframe thead th {\n",
       "        text-align: right;\n",
       "    }\n",
       "</style>\n",
       "<table border=\"1\" class=\"dataframe\">\n",
       "  <thead>\n",
       "    <tr style=\"text-align: right;\">\n",
       "      <th></th>\n",
       "      <th>Unnamed: 0</th>\n",
       "      <th>Property Name</th>\n",
       "      <th>Price</th>\n",
       "      <th>House Type</th>\n",
       "      <th>Area in sq ft</th>\n",
       "      <th>No. of Bedrooms</th>\n",
       "      <th>No. of Bathrooms</th>\n",
       "      <th>No. of Receptions</th>\n",
       "      <th>Location</th>\n",
       "      <th>City/County</th>\n",
       "      <th>Postal Code</th>\n",
       "    </tr>\n",
       "  </thead>\n",
       "  <tbody>\n",
       "    <tr>\n",
       "      <th>0</th>\n",
       "      <td>0</td>\n",
       "      <td>Queens Road</td>\n",
       "      <td>1675000</td>\n",
       "      <td>House</td>\n",
       "      <td>2716</td>\n",
       "      <td>5</td>\n",
       "      <td>5</td>\n",
       "      <td>5</td>\n",
       "      <td>Wimbledon</td>\n",
       "      <td>London</td>\n",
       "      <td>SW19 8NY</td>\n",
       "    </tr>\n",
       "    <tr>\n",
       "      <th>1</th>\n",
       "      <td>1</td>\n",
       "      <td>Seward Street</td>\n",
       "      <td>650000</td>\n",
       "      <td>Flat / Apartment</td>\n",
       "      <td>814</td>\n",
       "      <td>2</td>\n",
       "      <td>2</td>\n",
       "      <td>2</td>\n",
       "      <td>Clerkenwell</td>\n",
       "      <td>London</td>\n",
       "      <td>EC1V 3PA</td>\n",
       "    </tr>\n",
       "    <tr>\n",
       "      <th>2</th>\n",
       "      <td>2</td>\n",
       "      <td>Hotham Road</td>\n",
       "      <td>735000</td>\n",
       "      <td>Flat / Apartment</td>\n",
       "      <td>761</td>\n",
       "      <td>2</td>\n",
       "      <td>2</td>\n",
       "      <td>2</td>\n",
       "      <td>Putney</td>\n",
       "      <td>London</td>\n",
       "      <td>SW15 1QL</td>\n",
       "    </tr>\n",
       "    <tr>\n",
       "      <th>3</th>\n",
       "      <td>3</td>\n",
       "      <td>Festing Road</td>\n",
       "      <td>1765000</td>\n",
       "      <td>House</td>\n",
       "      <td>1986</td>\n",
       "      <td>4</td>\n",
       "      <td>4</td>\n",
       "      <td>4</td>\n",
       "      <td>Putney</td>\n",
       "      <td>London</td>\n",
       "      <td>SW15 1LP</td>\n",
       "    </tr>\n",
       "    <tr>\n",
       "      <th>4</th>\n",
       "      <td>4</td>\n",
       "      <td>Spencer Walk</td>\n",
       "      <td>675000</td>\n",
       "      <td>Flat / Apartment</td>\n",
       "      <td>700</td>\n",
       "      <td>2</td>\n",
       "      <td>2</td>\n",
       "      <td>2</td>\n",
       "      <td>Putney</td>\n",
       "      <td>London</td>\n",
       "      <td>SW15 1PL</td>\n",
       "    </tr>\n",
       "  </tbody>\n",
       "</table>\n",
       "</div>"
      ],
      "text/plain": [
       "   Unnamed: 0  Property Name    Price        House Type  Area in sq ft  \\\n",
       "0           0    Queens Road  1675000             House           2716   \n",
       "1           1  Seward Street   650000  Flat / Apartment            814   \n",
       "2           2    Hotham Road   735000  Flat / Apartment            761   \n",
       "3           3   Festing Road  1765000             House           1986   \n",
       "4           4   Spencer Walk   675000  Flat / Apartment            700   \n",
       "\n",
       "   No. of Bedrooms  No. of Bathrooms  No. of Receptions     Location  \\\n",
       "0                5                 5                  5    Wimbledon   \n",
       "1                2                 2                  2  Clerkenwell   \n",
       "2                2                 2                  2       Putney   \n",
       "3                4                 4                  4       Putney   \n",
       "4                2                 2                  2       Putney   \n",
       "\n",
       "  City/County Postal Code  \n",
       "0      London    SW19 8NY  \n",
       "1      London    EC1V 3PA  \n",
       "2      London    SW15 1QL  \n",
       "3      London    SW15 1LP  \n",
       "4      London    SW15 1PL  "
      ]
     },
     "execution_count": 2,
     "metadata": {},
     "output_type": "execute_result"
    }
   ],
   "source": [
    "london = pd.read_csv('London.csv')\n",
    "london.head()"
   ]
  },
  {
   "cell_type": "code",
   "execution_count": 3,
   "metadata": {},
   "outputs": [
    {
     "name": "stdout",
     "output_type": "stream",
     "text": [
      "<class 'pandas.core.frame.DataFrame'>\n",
      "RangeIndex: 3480 entries, 0 to 3479\n",
      "Data columns (total 11 columns):\n",
      " #   Column             Non-Null Count  Dtype \n",
      "---  ------             --------------  ----- \n",
      " 0   Unnamed: 0         3480 non-null   int64 \n",
      " 1   Property Name      3480 non-null   object\n",
      " 2   Price              3480 non-null   int64 \n",
      " 3   House Type         3480 non-null   object\n",
      " 4   Area in sq ft      3480 non-null   int64 \n",
      " 5   No. of Bedrooms    3480 non-null   int64 \n",
      " 6   No. of Bathrooms   3480 non-null   int64 \n",
      " 7   No. of Receptions  3480 non-null   int64 \n",
      " 8   Location           2518 non-null   object\n",
      " 9   City/County        3480 non-null   object\n",
      " 10  Postal Code        3480 non-null   object\n",
      "dtypes: int64(6), object(5)\n",
      "memory usage: 299.2+ KB\n"
     ]
    }
   ],
   "source": [
    "london.info()"
   ]
  },
  {
   "cell_type": "markdown",
   "metadata": {},
   "source": [
    "- There are 11 columns and 3480 rows. \n",
    "- Some of the features are objects and others integers.  \n",
    "- Only the 'Location' column has some null/missing values.\n",
    "- The target variable is 'Price'.\n",
    "- This dataset is contained in about 299kB space."
   ]
  },
  {
   "cell_type": "markdown",
   "metadata": {},
   "source": [
    "The 'Unnamed' column is irrelevant as it signifies the index/serial numbers of the dataframe. Next, is to drop the 'Unnamed' column."
   ]
  },
  {
   "cell_type": "code",
   "execution_count": 4,
   "metadata": {},
   "outputs": [],
   "source": [
    "london.drop(['Unnamed: 0'], axis = 1, inplace = True)"
   ]
  },
  {
   "cell_type": "code",
   "execution_count": 5,
   "metadata": {},
   "outputs": [
    {
     "data": {
      "text/html": [
       "<div>\n",
       "<style scoped>\n",
       "    .dataframe tbody tr th:only-of-type {\n",
       "        vertical-align: middle;\n",
       "    }\n",
       "\n",
       "    .dataframe tbody tr th {\n",
       "        vertical-align: top;\n",
       "    }\n",
       "\n",
       "    .dataframe thead th {\n",
       "        text-align: right;\n",
       "    }\n",
       "</style>\n",
       "<table border=\"1\" class=\"dataframe\">\n",
       "  <thead>\n",
       "    <tr style=\"text-align: right;\">\n",
       "      <th></th>\n",
       "      <th>Price</th>\n",
       "      <th>Area in sq ft</th>\n",
       "      <th>No. of Bedrooms</th>\n",
       "      <th>No. of Bathrooms</th>\n",
       "      <th>No. of Receptions</th>\n",
       "    </tr>\n",
       "  </thead>\n",
       "  <tbody>\n",
       "    <tr>\n",
       "      <th>count</th>\n",
       "      <td>3.480000e+03</td>\n",
       "      <td>3480.000000</td>\n",
       "      <td>3480.000000</td>\n",
       "      <td>3480.000000</td>\n",
       "      <td>3480.000000</td>\n",
       "    </tr>\n",
       "    <tr>\n",
       "      <th>mean</th>\n",
       "      <td>1.864173e+06</td>\n",
       "      <td>1712.973563</td>\n",
       "      <td>3.103736</td>\n",
       "      <td>3.103736</td>\n",
       "      <td>3.103736</td>\n",
       "    </tr>\n",
       "    <tr>\n",
       "      <th>std</th>\n",
       "      <td>2.267283e+06</td>\n",
       "      <td>1364.259351</td>\n",
       "      <td>1.517698</td>\n",
       "      <td>1.517698</td>\n",
       "      <td>1.517698</td>\n",
       "    </tr>\n",
       "    <tr>\n",
       "      <th>min</th>\n",
       "      <td>1.800000e+05</td>\n",
       "      <td>274.000000</td>\n",
       "      <td>0.000000</td>\n",
       "      <td>0.000000</td>\n",
       "      <td>0.000000</td>\n",
       "    </tr>\n",
       "    <tr>\n",
       "      <th>25%</th>\n",
       "      <td>7.500000e+05</td>\n",
       "      <td>834.000000</td>\n",
       "      <td>2.000000</td>\n",
       "      <td>2.000000</td>\n",
       "      <td>2.000000</td>\n",
       "    </tr>\n",
       "    <tr>\n",
       "      <th>50%</th>\n",
       "      <td>1.220000e+06</td>\n",
       "      <td>1310.000000</td>\n",
       "      <td>3.000000</td>\n",
       "      <td>3.000000</td>\n",
       "      <td>3.000000</td>\n",
       "    </tr>\n",
       "    <tr>\n",
       "      <th>75%</th>\n",
       "      <td>2.150000e+06</td>\n",
       "      <td>2157.250000</td>\n",
       "      <td>4.000000</td>\n",
       "      <td>4.000000</td>\n",
       "      <td>4.000000</td>\n",
       "    </tr>\n",
       "    <tr>\n",
       "      <th>max</th>\n",
       "      <td>3.975000e+07</td>\n",
       "      <td>15405.000000</td>\n",
       "      <td>10.000000</td>\n",
       "      <td>10.000000</td>\n",
       "      <td>10.000000</td>\n",
       "    </tr>\n",
       "  </tbody>\n",
       "</table>\n",
       "</div>"
      ],
      "text/plain": [
       "              Price  Area in sq ft  No. of Bedrooms  No. of Bathrooms  \\\n",
       "count  3.480000e+03    3480.000000      3480.000000       3480.000000   \n",
       "mean   1.864173e+06    1712.973563         3.103736          3.103736   \n",
       "std    2.267283e+06    1364.259351         1.517698          1.517698   \n",
       "min    1.800000e+05     274.000000         0.000000          0.000000   \n",
       "25%    7.500000e+05     834.000000         2.000000          2.000000   \n",
       "50%    1.220000e+06    1310.000000         3.000000          3.000000   \n",
       "75%    2.150000e+06    2157.250000         4.000000          4.000000   \n",
       "max    3.975000e+07   15405.000000        10.000000         10.000000   \n",
       "\n",
       "       No. of Receptions  \n",
       "count        3480.000000  \n",
       "mean            3.103736  \n",
       "std             1.517698  \n",
       "min             0.000000  \n",
       "25%             2.000000  \n",
       "50%             3.000000  \n",
       "75%             4.000000  \n",
       "max            10.000000  "
      ]
     },
     "execution_count": 5,
     "metadata": {},
     "output_type": "execute_result"
    }
   ],
   "source": [
    "london.describe()"
   ]
  },
  {
   "cell_type": "markdown",
   "metadata": {},
   "source": [
    "From the above, the basic statistics of the numerical columns (int64 datatype) was derived.Some deductions include;\n",
    "- The average price of a house is 1864173 GBP, while the most expensive house is priced at 39750000 GBP.\n",
    "- The total number of records is 3480.\n",
    "- The maximum bathrooms, bedrooms and receptions that can be found in any house is 10.\n",
    "- Simlarly, there are some houses with no bathroom, bedroom and reception.\n",
    "- Half of the houses have 3 bathrooms, bedrooms and receptions available.\n",
    "\n",
    "Next, the statistics for the categorical columns with object datatype will be derived."
   ]
  },
  {
   "cell_type": "code",
   "execution_count": 6,
   "metadata": {},
   "outputs": [
    {
     "data": {
      "text/html": [
       "<div>\n",
       "<style scoped>\n",
       "    .dataframe tbody tr th:only-of-type {\n",
       "        vertical-align: middle;\n",
       "    }\n",
       "\n",
       "    .dataframe tbody tr th {\n",
       "        vertical-align: top;\n",
       "    }\n",
       "\n",
       "    .dataframe thead th {\n",
       "        text-align: right;\n",
       "    }\n",
       "</style>\n",
       "<table border=\"1\" class=\"dataframe\">\n",
       "  <thead>\n",
       "    <tr style=\"text-align: right;\">\n",
       "      <th></th>\n",
       "      <th>Property Name</th>\n",
       "      <th>House Type</th>\n",
       "      <th>Location</th>\n",
       "      <th>City/County</th>\n",
       "      <th>Postal Code</th>\n",
       "    </tr>\n",
       "  </thead>\n",
       "  <tbody>\n",
       "    <tr>\n",
       "      <th>count</th>\n",
       "      <td>3480</td>\n",
       "      <td>3480</td>\n",
       "      <td>2518</td>\n",
       "      <td>3480</td>\n",
       "      <td>3480</td>\n",
       "    </tr>\n",
       "    <tr>\n",
       "      <th>unique</th>\n",
       "      <td>2380</td>\n",
       "      <td>8</td>\n",
       "      <td>656</td>\n",
       "      <td>57</td>\n",
       "      <td>2845</td>\n",
       "    </tr>\n",
       "    <tr>\n",
       "      <th>top</th>\n",
       "      <td>Television Centre</td>\n",
       "      <td>Flat / Apartment</td>\n",
       "      <td>Putney</td>\n",
       "      <td>London</td>\n",
       "      <td>SW6 3LF</td>\n",
       "    </tr>\n",
       "    <tr>\n",
       "      <th>freq</th>\n",
       "      <td>17</td>\n",
       "      <td>1565</td>\n",
       "      <td>96</td>\n",
       "      <td>2972</td>\n",
       "      <td>14</td>\n",
       "    </tr>\n",
       "  </tbody>\n",
       "</table>\n",
       "</div>"
      ],
      "text/plain": [
       "            Property Name        House Type Location City/County Postal Code\n",
       "count                3480              3480     2518        3480        3480\n",
       "unique               2380                 8      656          57        2845\n",
       "top     Television Centre  Flat / Apartment   Putney      London     SW6 3LF\n",
       "freq                   17              1565       96        2972          14"
      ]
     },
     "execution_count": 6,
     "metadata": {},
     "output_type": "execute_result"
    }
   ],
   "source": [
    "london.describe(include = ['object'])"
   ]
  },
  {
   "cell_type": "markdown",
   "metadata": {},
   "source": [
    "From the above statistics, the following can be deduced;\n",
    "\n",
    "- There are 2380 unique property names. This means that almost all the properties have unique names. Hence, this feature will not be necessary for the price prediction.\n",
    "- There are 8 different types of houses in the dataset. \n",
    "- The dataset comprises of data gotten from 57 cities/counties with 2845 different postcodes.\n",
    "- The location feature has some missing values, as the count (2518) is less than the expected number of entries (3480)."
   ]
  },
  {
   "cell_type": "code",
   "execution_count": 7,
   "metadata": {},
   "outputs": [
    {
     "data": {
      "text/plain": [
       "array(['House', 'Flat / Apartment', 'New development', 'Duplex',\n",
       "       'Penthouse', 'Studio', 'Bungalow', 'Mews'], dtype=object)"
      ]
     },
     "execution_count": 7,
     "metadata": {},
     "output_type": "execute_result"
    }
   ],
   "source": [
    "london['House Type'].unique()\n",
    "#london['House Type'].nunique()"
   ]
  },
  {
   "cell_type": "markdown",
   "metadata": {},
   "source": [
    "##### Missing values function"
   ]
  },
  {
   "cell_type": "markdown",
   "metadata": {},
   "source": [
    "Getting a clearer view of the missing value columns, a function (miss_vals) that reads missing values is defined as below;"
   ]
  },
  {
   "cell_type": "code",
   "execution_count": 8,
   "metadata": {},
   "outputs": [],
   "source": [
    "def miss_vals(df):\n",
    "    \"\"\"This function takes a dataFrame(df) as input and returns the total missing values of each column\"\"\"\n",
    "    missing_total = df.isnull().sum().sort_values(ascending = False)\n",
    "    missing_percent = round(df.isnull().sum().sort_values(ascending = False)/len(df)*100,2)[round(df.isnull().sum().sort_values(ascending = False)/len(df)*100,2) != 0]\n",
    "    return pd.concat([missing_total, missing_percent], axis = 1, keys = ['Total_Missing', 'Percent_Missing'])"
   ]
  },
  {
   "cell_type": "code",
   "execution_count": 9,
   "metadata": {},
   "outputs": [
    {
     "data": {
      "text/html": [
       "<div>\n",
       "<style scoped>\n",
       "    .dataframe tbody tr th:only-of-type {\n",
       "        vertical-align: middle;\n",
       "    }\n",
       "\n",
       "    .dataframe tbody tr th {\n",
       "        vertical-align: top;\n",
       "    }\n",
       "\n",
       "    .dataframe thead th {\n",
       "        text-align: right;\n",
       "    }\n",
       "</style>\n",
       "<table border=\"1\" class=\"dataframe\">\n",
       "  <thead>\n",
       "    <tr style=\"text-align: right;\">\n",
       "      <th></th>\n",
       "      <th>Total_Missing</th>\n",
       "      <th>Percent_Missing</th>\n",
       "    </tr>\n",
       "  </thead>\n",
       "  <tbody>\n",
       "    <tr>\n",
       "      <th>Location</th>\n",
       "      <td>962</td>\n",
       "      <td>27.64</td>\n",
       "    </tr>\n",
       "    <tr>\n",
       "      <th>Postal Code</th>\n",
       "      <td>0</td>\n",
       "      <td>NaN</td>\n",
       "    </tr>\n",
       "    <tr>\n",
       "      <th>City/County</th>\n",
       "      <td>0</td>\n",
       "      <td>NaN</td>\n",
       "    </tr>\n",
       "    <tr>\n",
       "      <th>No. of Receptions</th>\n",
       "      <td>0</td>\n",
       "      <td>NaN</td>\n",
       "    </tr>\n",
       "    <tr>\n",
       "      <th>No. of Bathrooms</th>\n",
       "      <td>0</td>\n",
       "      <td>NaN</td>\n",
       "    </tr>\n",
       "    <tr>\n",
       "      <th>No. of Bedrooms</th>\n",
       "      <td>0</td>\n",
       "      <td>NaN</td>\n",
       "    </tr>\n",
       "    <tr>\n",
       "      <th>Area in sq ft</th>\n",
       "      <td>0</td>\n",
       "      <td>NaN</td>\n",
       "    </tr>\n",
       "    <tr>\n",
       "      <th>House Type</th>\n",
       "      <td>0</td>\n",
       "      <td>NaN</td>\n",
       "    </tr>\n",
       "    <tr>\n",
       "      <th>Price</th>\n",
       "      <td>0</td>\n",
       "      <td>NaN</td>\n",
       "    </tr>\n",
       "    <tr>\n",
       "      <th>Property Name</th>\n",
       "      <td>0</td>\n",
       "      <td>NaN</td>\n",
       "    </tr>\n",
       "  </tbody>\n",
       "</table>\n",
       "</div>"
      ],
      "text/plain": [
       "                   Total_Missing  Percent_Missing\n",
       "Location                     962            27.64\n",
       "Postal Code                    0              NaN\n",
       "City/County                    0              NaN\n",
       "No. of Receptions              0              NaN\n",
       "No. of Bathrooms               0              NaN\n",
       "No. of Bedrooms                0              NaN\n",
       "Area in sq ft                  0              NaN\n",
       "House Type                     0              NaN\n",
       "Price                          0              NaN\n",
       "Property Name                  0              NaN"
      ]
     },
     "execution_count": 9,
     "metadata": {},
     "output_type": "execute_result"
    }
   ],
   "source": [
    "miss_vals(london)"
   ]
  },
  {
   "cell_type": "markdown",
   "metadata": {},
   "source": [
    "There are 962 missing values, which validates the 2518 non-null values as seen earlier. The total missing values(962) + total non-null values(2518) = 3480 expected values.\n",
    "\n",
    "A total of 27.64% of the location values are missing, thus reducing the confidence level of the feature. "
   ]
  },
  {
   "cell_type": "markdown",
   "metadata": {},
   "source": [
    "Just before dealing with the missing values, next is to explore the data set to see the relationship between some of the features.\n",
    "\n",
    "Some questions to derive from the dataset;\n",
    "\n",
    "1.) What are the 5 most expensive properties in England, their cities and prices.\n",
    "\n",
    "2.) Similarly, the 5 least expensive properties in England, their cities and prices."
   ]
  },
  {
   "cell_type": "code",
   "execution_count": 10,
   "metadata": {},
   "outputs": [],
   "source": [
    "country_price = pd.concat([london[['City/County', 'Price', 'House Type']]], axis = 1)"
   ]
  },
  {
   "cell_type": "code",
   "execution_count": 11,
   "metadata": {},
   "outputs": [
    {
     "data": {
      "text/html": [
       "<div>\n",
       "<style scoped>\n",
       "    .dataframe tbody tr th:only-of-type {\n",
       "        vertical-align: middle;\n",
       "    }\n",
       "\n",
       "    .dataframe tbody tr th {\n",
       "        vertical-align: top;\n",
       "    }\n",
       "\n",
       "    .dataframe thead th {\n",
       "        text-align: right;\n",
       "    }\n",
       "</style>\n",
       "<table border=\"1\" class=\"dataframe\">\n",
       "  <thead>\n",
       "    <tr style=\"text-align: right;\">\n",
       "      <th></th>\n",
       "      <th>City/County</th>\n",
       "      <th>Price</th>\n",
       "      <th>House Type</th>\n",
       "    </tr>\n",
       "  </thead>\n",
       "  <tbody>\n",
       "    <tr>\n",
       "      <th>1851</th>\n",
       "      <td>London</td>\n",
       "      <td>39750000</td>\n",
       "      <td>New development</td>\n",
       "    </tr>\n",
       "    <tr>\n",
       "      <th>3352</th>\n",
       "      <td>London</td>\n",
       "      <td>34000000</td>\n",
       "      <td>House</td>\n",
       "    </tr>\n",
       "    <tr>\n",
       "      <th>3420</th>\n",
       "      <td>London</td>\n",
       "      <td>25000000</td>\n",
       "      <td>House</td>\n",
       "    </tr>\n",
       "    <tr>\n",
       "      <th>3434</th>\n",
       "      <td>London</td>\n",
       "      <td>25000000</td>\n",
       "      <td>New development</td>\n",
       "    </tr>\n",
       "    <tr>\n",
       "      <th>3306</th>\n",
       "      <td>London</td>\n",
       "      <td>23950000</td>\n",
       "      <td>New development</td>\n",
       "    </tr>\n",
       "  </tbody>\n",
       "</table>\n",
       "</div>"
      ],
      "text/plain": [
       "     City/County     Price       House Type\n",
       "1851      London  39750000  New development\n",
       "3352      London  34000000            House\n",
       "3420      London  25000000            House\n",
       "3434      London  25000000  New development\n",
       "3306      London  23950000  New development"
      ]
     },
     "execution_count": 11,
     "metadata": {},
     "output_type": "execute_result"
    }
   ],
   "source": [
    "exp_props = country_price.sort_values(by = 'Price', ascending = False).head()\n",
    "exp_props"
   ]
  },
  {
   "cell_type": "markdown",
   "metadata": {},
   "source": [
    "The 5 most expensive properties in England are all in London, some are new developments and others, houses. \n",
    "\n",
    "The most expensive new development is 39,750,000 GBP."
   ]
  },
  {
   "cell_type": "code",
   "execution_count": 12,
   "metadata": {},
   "outputs": [
    {
     "data": {
      "text/html": [
       "<div>\n",
       "<style scoped>\n",
       "    .dataframe tbody tr th:only-of-type {\n",
       "        vertical-align: middle;\n",
       "    }\n",
       "\n",
       "    .dataframe tbody tr th {\n",
       "        vertical-align: top;\n",
       "    }\n",
       "\n",
       "    .dataframe thead th {\n",
       "        text-align: right;\n",
       "    }\n",
       "</style>\n",
       "<table border=\"1\" class=\"dataframe\">\n",
       "  <thead>\n",
       "    <tr style=\"text-align: right;\">\n",
       "      <th></th>\n",
       "      <th>City/County</th>\n",
       "      <th>Price</th>\n",
       "      <th>House Type</th>\n",
       "    </tr>\n",
       "  </thead>\n",
       "  <tbody>\n",
       "    <tr>\n",
       "      <th>347</th>\n",
       "      <td>London</td>\n",
       "      <td>180000</td>\n",
       "      <td>Flat / Apartment</td>\n",
       "    </tr>\n",
       "    <tr>\n",
       "      <th>350</th>\n",
       "      <td>London</td>\n",
       "      <td>210000</td>\n",
       "      <td>Studio</td>\n",
       "    </tr>\n",
       "    <tr>\n",
       "      <th>659</th>\n",
       "      <td>London</td>\n",
       "      <td>249999</td>\n",
       "      <td>Flat / Apartment</td>\n",
       "    </tr>\n",
       "    <tr>\n",
       "      <th>2763</th>\n",
       "      <td>London</td>\n",
       "      <td>255000</td>\n",
       "      <td>Flat / Apartment</td>\n",
       "    </tr>\n",
       "    <tr>\n",
       "      <th>154</th>\n",
       "      <td>London</td>\n",
       "      <td>260000</td>\n",
       "      <td>Studio</td>\n",
       "    </tr>\n",
       "  </tbody>\n",
       "</table>\n",
       "</div>"
      ],
      "text/plain": [
       "     City/County   Price        House Type\n",
       "347       London  180000  Flat / Apartment\n",
       "350       London  210000            Studio\n",
       "659       London  249999  Flat / Apartment\n",
       "2763      London  255000  Flat / Apartment\n",
       "154       London  260000            Studio"
      ]
     },
     "execution_count": 12,
     "metadata": {},
     "output_type": "execute_result"
    }
   ],
   "source": [
    "cheap_props = country_price.sort_values(by = 'Price').head()\n",
    "cheap_props"
   ]
  },
  {
   "cell_type": "markdown",
   "metadata": {},
   "source": [
    "The 5 cheapest properties in England are also situated in London, some are flat/apartments and others, studios. \n",
    "\n",
    "The cheapest flat/apartment is 180,000 GBP."
   ]
  },
  {
   "cell_type": "code",
   "execution_count": 13,
   "metadata": {},
   "outputs": [
    {
     "data": {
      "text/plain": [
       "Text(0.5, 1.0, 'Cheap Properties')"
      ]
     },
     "execution_count": 13,
     "metadata": {},
     "output_type": "execute_result"
    },
    {
     "data": {
      "image/png": "[encoded data removed]",
      "text/plain": [
       "<Figure size 1440x576 with 2 Axes>"
      ]
     },
     "metadata": {
      "needs_background": "light"
     },
     "output_type": "display_data"
    }
   ],
   "source": [
    "fig, ax = plt.subplots(figsize = (20,8), ncols = 2)\n",
    "\n",
    "ax1 = sns.barplot(x=\"House Type\", y = 'Price', data=exp_props, ax = ax[0])\n",
    "ax2 = sns.barplot(x=\"House Type\",  y = 'Price', data=cheap_props, ax = ax[1])\n",
    "\n",
    "\n",
    "ax1.set_title(\"Expensive Properties\", fontsize = 18)\n",
    "ax2.set_title(\"Cheap Properties\",  fontsize = 18)"
   ]
  },
  {
   "cell_type": "markdown",
   "metadata": {},
   "source": [
    "From the above plot, the average price of an expensive new development or house in London is about 29 million pounds.\n",
    "\n",
    "The average price of a relatively cheap studio in London is about 230,000 pounds. While that of a flat/apartment is slightly cheaper by about 5000 pounds."
   ]
  },
  {
   "cell_type": "code",
   "execution_count": 14,
   "metadata": {},
   "outputs": [
    {
     "name": "stdout",
     "output_type": "stream",
     "text": [
      "There are 656 unique locations from our dataset.\n"
     ]
    }
   ],
   "source": [
    "unique_locations = london['Location'].nunique()\n",
    "print(\"There are {} unique locations from our dataset.\".format(unique_locations))"
   ]
  },
  {
   "cell_type": "markdown",
   "metadata": {},
   "source": [
    "This column will be dropped to avoid assigning the wrong location in the bid to fill in the missing values of location. The City/County feature will serve as the location for the properties."
   ]
  },
  {
   "cell_type": "code",
   "execution_count": 15,
   "metadata": {},
   "outputs": [
    {
     "data": {
      "text/html": [
       "<div>\n",
       "<style scoped>\n",
       "    .dataframe tbody tr th:only-of-type {\n",
       "        vertical-align: middle;\n",
       "    }\n",
       "\n",
       "    .dataframe tbody tr th {\n",
       "        vertical-align: top;\n",
       "    }\n",
       "\n",
       "    .dataframe thead th {\n",
       "        text-align: right;\n",
       "    }\n",
       "</style>\n",
       "<table border=\"1\" class=\"dataframe\">\n",
       "  <thead>\n",
       "    <tr style=\"text-align: right;\">\n",
       "      <th></th>\n",
       "      <th>Property Name</th>\n",
       "      <th>Price</th>\n",
       "      <th>House Type</th>\n",
       "      <th>Area in sq ft</th>\n",
       "      <th>No. of Bedrooms</th>\n",
       "      <th>No. of Bathrooms</th>\n",
       "      <th>No. of Receptions</th>\n",
       "      <th>City/County</th>\n",
       "      <th>Postal Code</th>\n",
       "    </tr>\n",
       "  </thead>\n",
       "  <tbody>\n",
       "    <tr>\n",
       "      <th>0</th>\n",
       "      <td>Queens Road</td>\n",
       "      <td>1675000</td>\n",
       "      <td>House</td>\n",
       "      <td>2716</td>\n",
       "      <td>5</td>\n",
       "      <td>5</td>\n",
       "      <td>5</td>\n",
       "      <td>London</td>\n",
       "      <td>SW19 8NY</td>\n",
       "    </tr>\n",
       "    <tr>\n",
       "      <th>1</th>\n",
       "      <td>Seward Street</td>\n",
       "      <td>650000</td>\n",
       "      <td>Flat / Apartment</td>\n",
       "      <td>814</td>\n",
       "      <td>2</td>\n",
       "      <td>2</td>\n",
       "      <td>2</td>\n",
       "      <td>London</td>\n",
       "      <td>EC1V 3PA</td>\n",
       "    </tr>\n",
       "    <tr>\n",
       "      <th>2</th>\n",
       "      <td>Hotham Road</td>\n",
       "      <td>735000</td>\n",
       "      <td>Flat / Apartment</td>\n",
       "      <td>761</td>\n",
       "      <td>2</td>\n",
       "      <td>2</td>\n",
       "      <td>2</td>\n",
       "      <td>London</td>\n",
       "      <td>SW15 1QL</td>\n",
       "    </tr>\n",
       "    <tr>\n",
       "      <th>3</th>\n",
       "      <td>Festing Road</td>\n",
       "      <td>1765000</td>\n",
       "      <td>House</td>\n",
       "      <td>1986</td>\n",
       "      <td>4</td>\n",
       "      <td>4</td>\n",
       "      <td>4</td>\n",
       "      <td>London</td>\n",
       "      <td>SW15 1LP</td>\n",
       "    </tr>\n",
       "    <tr>\n",
       "      <th>4</th>\n",
       "      <td>Spencer Walk</td>\n",
       "      <td>675000</td>\n",
       "      <td>Flat / Apartment</td>\n",
       "      <td>700</td>\n",
       "      <td>2</td>\n",
       "      <td>2</td>\n",
       "      <td>2</td>\n",
       "      <td>London</td>\n",
       "      <td>SW15 1PL</td>\n",
       "    </tr>\n",
       "  </tbody>\n",
       "</table>\n",
       "</div>"
      ],
      "text/plain": [
       "   Property Name    Price        House Type  Area in sq ft  No. of Bedrooms  \\\n",
       "0    Queens Road  1675000             House           2716                5   \n",
       "1  Seward Street   650000  Flat / Apartment            814                2   \n",
       "2    Hotham Road   735000  Flat / Apartment            761                2   \n",
       "3   Festing Road  1765000             House           1986                4   \n",
       "4   Spencer Walk   675000  Flat / Apartment            700                2   \n",
       "\n",
       "   No. of Bathrooms  No. of Receptions City/County Postal Code  \n",
       "0                 5                  5      London    SW19 8NY  \n",
       "1                 2                  2      London    EC1V 3PA  \n",
       "2                 2                  2      London    SW15 1QL  \n",
       "3                 4                  4      London    SW15 1LP  \n",
       "4                 2                  2      London    SW15 1PL  "
      ]
     },
     "execution_count": 15,
     "metadata": {},
     "output_type": "execute_result"
    }
   ],
   "source": [
    "london.drop(['Location'], axis = 1, inplace = True)\n",
    "london.head()"
   ]
  },
  {
   "cell_type": "markdown",
   "metadata": {},
   "source": [
    "## SECTION 2: OBSERVATION AND ASSUMPTIONS"
   ]
  },
  {
   "cell_type": "markdown",
   "metadata": {},
   "source": [
    "There are more than one independent variable to be used to predict the dependent variable (price). The following assumptions will be checked to validate the use of a linear model;\n",
    "\n",
    "- SKEWNESS\n",
    "- CORRELATION AND P-VALUE\n",
    "- LINEARITY\n",
    "- HOMOSCEDASTICITY\n",
    "- MULTICOLLINEARITY\n",
    "\n",
    "To use any linear model (in this case, multiple linear regression), it is important that the features are normally distributed. This will be explored by checking the skewness."
   ]
  },
  {
   "cell_type": "markdown",
   "metadata": {},
   "source": [
    "### SKEWNESS"
   ]
  },
  {
   "cell_type": "markdown",
   "metadata": {},
   "source": [
    "With focus on the dependent variable, the skewness is checked with a distribution plot. \n",
    "Outliers are also examined using a box plot as seen below. "
   ]
  },
  {
   "cell_type": "code",
   "execution_count": 16,
   "metadata": {},
   "outputs": [
    {
     "name": "stderr",
     "output_type": "stream",
     "text": [
      "C:\\Users\\Funmi\\Downloads\\ANACONDA\\lib\\site-packages\\ipykernel_launcher.py:12: UserWarning: This figure was using constrained_layout==True, but that is incompatible with subplots_adjust and or tight_layout: setting constrained_layout==False. \n",
      "  if sys.path[0] == '':\n"
     ]
    },
    {
     "data": {
      "image/png": "[encoded data removed]",
      "text/plain": [
       "<Figure size 1080x576 with 2 Axes>"
      ]
     },
     "metadata": {},
     "output_type": "display_data"
    }
   ],
   "source": [
    "def skew_outlier(df, feature):\n",
    "#Function to plot the distribution and box plot to check for outliers.\n",
    "    \n",
    "    #Importing other necessary libraries \n",
    "    import matplotlib.gridspec as gridspec\n",
    "    import matplotlib.style as style\n",
    "    style.use('ggplot')\n",
    "\n",
    "    #Creating customized chart with figures and grids of 2 columns and 2 rows \n",
    "    cust_fig = plt.figure(constrained_layout=True, figsize=(15,8)) \n",
    "    cust_grid = gridspec.GridSpec(ncols=2, nrows=2, figure=fig)\n",
    "    plt.subplots_adjust(wspace = 2.5, hspace = .001)\n",
    "    #fig.tight_layout()\n",
    "    #fig.canvas.print_figure(bytes_io, **kw)\n",
    "\n",
    "    #Plotting the distribution to check the skewness using histogram plot \n",
    "    ax1 = cust_fig.add_subplot(cust_grid[0, :2])\n",
    "    ax1.set_title('Skewness') \n",
    "    sns.distplot(df.loc[:,feature], norm_hist=True, ax = ax1)\n",
    "\n",
    "    #Plotting the box plot to check for outliers \n",
    "    ax2 = cust_fig.add_subplot(cust_grid[:, 1])\n",
    "    ax2.set_title('Outliers')\n",
    "    sns.boxplot(df.loc[:,feature], orient='v', ax = ax2 );\n",
    "    \n",
    "skew_outlier(london, 'Price')"
   ]
  },
  {
   "cell_type": "markdown",
   "metadata": {},
   "source": [
    "From the plots above, the dependent/target variable is not normally distributed and contains some outliers. These outliers at the very top seem to be prices above 34million pounds.This will be checked next.\n",
    "\n",
    "From the distribution plot, it is seen that the price variable is right-skewed (positive skewness). To verify the extent to which it is skewed, we can check for the skew value itself."
   ]
  },
  {
   "cell_type": "code",
   "execution_count": 17,
   "metadata": {},
   "outputs": [
    {
     "data": {
      "text/html": [
       "<div>\n",
       "<style scoped>\n",
       "    .dataframe tbody tr th:only-of-type {\n",
       "        vertical-align: middle;\n",
       "    }\n",
       "\n",
       "    .dataframe tbody tr th {\n",
       "        vertical-align: top;\n",
       "    }\n",
       "\n",
       "    .dataframe thead th {\n",
       "        text-align: right;\n",
       "    }\n",
       "</style>\n",
       "<table border=\"1\" class=\"dataframe\">\n",
       "  <thead>\n",
       "    <tr style=\"text-align: right;\">\n",
       "      <th></th>\n",
       "      <th>Property Name</th>\n",
       "      <th>Price</th>\n",
       "      <th>House Type</th>\n",
       "      <th>Area in sq ft</th>\n",
       "      <th>No. of Bedrooms</th>\n",
       "      <th>No. of Bathrooms</th>\n",
       "      <th>No. of Receptions</th>\n",
       "      <th>City/County</th>\n",
       "      <th>Postal Code</th>\n",
       "    </tr>\n",
       "  </thead>\n",
       "  <tbody>\n",
       "    <tr>\n",
       "      <th>1851</th>\n",
       "      <td>No.1 Grosvenor Square</td>\n",
       "      <td>39750000</td>\n",
       "      <td>New development</td>\n",
       "      <td>5623</td>\n",
       "      <td>5</td>\n",
       "      <td>5</td>\n",
       "      <td>5</td>\n",
       "      <td>London</td>\n",
       "      <td>W1K 4AB</td>\n",
       "    </tr>\n",
       "  </tbody>\n",
       "</table>\n",
       "</div>"
      ],
      "text/plain": [
       "              Property Name     Price       House Type  Area in sq ft  \\\n",
       "1851  No.1 Grosvenor Square  39750000  New development           5623   \n",
       "\n",
       "      No. of Bedrooms  No. of Bathrooms  No. of Receptions City/County  \\\n",
       "1851                5                 5                  5      London   \n",
       "\n",
       "     Postal Code  \n",
       "1851     W1K 4AB  "
      ]
     },
     "execution_count": 17,
     "metadata": {},
     "output_type": "execute_result"
    }
   ],
   "source": [
    "#Checking the outliers\n",
    "london[london['Price']> 34000000]"
   ]
  },
  {
   "cell_type": "markdown",
   "metadata": {},
   "source": [
    "The outlier appears to be the very expensive new development. This isn't out of place as it is a new development with the area covered to be above the average area as seen in the SECTION 1. "
   ]
  },
  {
   "cell_type": "code",
   "execution_count": 18,
   "metadata": {},
   "outputs": [
    {
     "name": "stdout",
     "output_type": "stream",
     "text": [
      "The skewness of price is:  5.77264550423514\n",
      "The kurtosis of price is:  55.76316936927734\n"
     ]
    }
   ],
   "source": [
    "price_skew = london['Price'].skew()\n",
    "price_kurt = london['Price'].kurt()\n",
    "\n",
    "print('The skewness of price is: ', price_skew)\n",
    "print('The kurtosis of price is: ', price_kurt)"
   ]
  },
  {
   "cell_type": "code",
   "execution_count": 19,
   "metadata": {},
   "outputs": [
    {
     "data": {
      "text/plain": [
       "Price                5.770157\n",
       "Area in sq ft        3.111337\n",
       "No. of Receptions    0.610773\n",
       "No. of Bathrooms     0.610773\n",
       "No. of Bedrooms      0.610773\n",
       "dtype: float64"
      ]
     },
     "execution_count": 19,
     "metadata": {},
     "output_type": "execute_result"
    }
   ],
   "source": [
    "#Importing necessary library\n",
    "from scipy.stats import skew\n",
    "\n",
    "#All numerical variables that are data type is not object\n",
    "numeric_var = london.dtypes[london.dtypes != \"object\"].index\n",
    "\n",
    "#Getting the skewness in descending order\n",
    "skew_var = london[numeric_var].apply(lambda x: skew(x)).sort_values(ascending=False)\n",
    "\n",
    "skew_var"
   ]
  },
  {
   "cell_type": "markdown",
   "metadata": {},
   "source": [
    "The skewness of price and area are high as compared to others. Nonetheless, all the variables skewness above 0.5 will be corrected."
   ]
  },
  {
   "cell_type": "markdown",
   "metadata": {},
   "source": [
    "This verifies that the target variable is highly skewed. \n",
    "\n",
    "Next, the correlation between the target variables and other features is examined. "
   ]
  },
  {
   "cell_type": "markdown",
   "metadata": {},
   "source": [
    "### CORRELATION AND P-VALUE"
   ]
  },
  {
   "cell_type": "code",
   "execution_count": 20,
   "metadata": {},
   "outputs": [
    {
     "data": {
      "text/plain": [
       "<matplotlib.axes._subplots.AxesSubplot at 0x2047bea8308>"
      ]
     },
     "execution_count": 20,
     "metadata": {},
     "output_type": "execute_result"
    },
    {
     "data": {
      "image/png": "[encoded data removed]",
      "text/plain": [
       "<Figure size 432x288 with 2 Axes>"
      ]
     },
     "metadata": {},
     "output_type": "display_data"
    }
   ],
   "source": [
    "lon_cor = london.corr()\n",
    "sns.heatmap(lon_cor, annot=True)"
   ]
  },
  {
   "cell_type": "markdown",
   "metadata": {},
   "source": [
    "To get a clearer view of the numerical columns correlation with price (the target variable), in descending order; "
   ]
  },
  {
   "cell_type": "code",
   "execution_count": 21,
   "metadata": {},
   "outputs": [
    {
     "data": {
      "text/plain": [
       "Area in sq ft        0.667710\n",
       "No. of Receptions    0.435533\n",
       "No. of Bathrooms     0.435533\n",
       "No. of Bedrooms      0.435533\n",
       "Name: Price, dtype: float64"
      ]
     },
     "execution_count": 21,
     "metadata": {},
     "output_type": "execute_result"
    }
   ],
   "source": [
    "#Excluding price itself.\n",
    "\n",
    "london.corr()['Price'].sort_values(ascending = False)[1:]"
   ]
  },
  {
   "cell_type": "markdown",
   "metadata": {},
   "source": [
    "Area in sq ft is seen to have the highest correlation with price. Other numerical features have the same extent of correlation with price.\n",
    "\n",
    "However, we can verify the significance of their correlation using the p-value."
   ]
  },
  {
   "cell_type": "markdown",
   "metadata": {},
   "source": [
    "##### Price vs Area in sq ft "
   ]
  },
  {
   "cell_type": "code",
   "execution_count": 22,
   "metadata": {},
   "outputs": [
    {
     "name": "stdout",
     "output_type": "stream",
     "text": [
      "The Pearson Correlation Coefficient is 0.667709603836874  with a P-value of P = 0.0 .\n"
     ]
    }
   ],
   "source": [
    "#Importing other necessary libraries \n",
    "from scipy import stats\n",
    "\n",
    "pearson_coef1, p_value1 = stats.pearsonr(london['Area in sq ft'], london['Price'])\n",
    "print(\"The Pearson Correlation Coefficient is\", pearson_coef1, \" with a P-value of P =\", p_value1, \".\")"
   ]
  },
  {
   "cell_type": "markdown",
   "metadata": {},
   "source": [
    "From the p-value obtained above, there's evidence of a significant relationship between the area in square feets and the price of the properties. The correlation shows a good linear relationship between price and area."
   ]
  },
  {
   "cell_type": "markdown",
   "metadata": {},
   "source": [
    "##### Price vs No. of Receptions"
   ]
  },
  {
   "cell_type": "code",
   "execution_count": 23,
   "metadata": {},
   "outputs": [
    {
     "name": "stdout",
     "output_type": "stream",
     "text": [
      "The Pearson Correlation Coefficient is 0.43553279836804837  with a P-value of P = 4.337377540503139e-161 .\n"
     ]
    }
   ],
   "source": [
    "pearson_coef2, p_value2 = stats.pearsonr(london['No. of Receptions'], london['Price'])\n",
    "print(\"The Pearson Correlation Coefficient is\", pearson_coef2, \" with a P-value of P =\", p_value2, \".\")"
   ]
  },
  {
   "cell_type": "markdown",
   "metadata": {},
   "source": [
    "The indication on the p-value obtained shows a significant relationship with 'No. of receptions' as well as other features with the same correlation value. The correlation however, is not so strong."
   ]
  },
  {
   "cell_type": "code",
   "execution_count": 24,
   "metadata": {},
   "outputs": [
    {
     "data": {
      "text/plain": [
       "<matplotlib.axes._subplots.AxesSubplot at 0x2047bfa6388>"
      ]
     },
     "execution_count": 24,
     "metadata": {},
     "output_type": "execute_result"
    },
    {
     "data": {
      "image/png": "[encoded data removed]",
      "text/plain": [
       "<Figure size 432x288 with 1 Axes>"
      ]
     },
     "metadata": {},
     "output_type": "display_data"
    }
   ],
   "source": [
    "sns.scatterplot(x = london['No. of Receptions'], y = london['Price'])"
   ]
  },
  {
   "cell_type": "markdown",
   "metadata": {},
   "source": [
    "No. of receptions appear to be a categorical variable as seen in the plot above. The price is not linearly related to the no. of receptions. This will be verified with No. of bedrooms and bathrooms."
   ]
  },
  {
   "cell_type": "code",
   "execution_count": 25,
   "metadata": {},
   "outputs": [
    {
     "data": {
      "text/plain": [
       "<matplotlib.axes._subplots.AxesSubplot at 0x2047c00d4c8>"
      ]
     },
     "execution_count": 25,
     "metadata": {},
     "output_type": "execute_result"
    },
    {
     "data": {
      "image/png": "[encoded data removed]",
      "text/plain": [
       "<Figure size 432x288 with 1 Axes>"
      ]
     },
     "metadata": {},
     "output_type": "display_data"
    }
   ],
   "source": [
    "sns.scatterplot(x = london['No. of Bathrooms'], y = london['Price'])"
   ]
  },
  {
   "cell_type": "markdown",
   "metadata": {},
   "source": [
    "Similarly, the number of bathrooms and bedrooms are also categorical variables. "
   ]
  },
  {
   "cell_type": "markdown",
   "metadata": {},
   "source": [
    "Another assumptions for linear models is LINEARITY."
   ]
  },
  {
   "cell_type": "markdown",
   "metadata": {},
   "source": [
    "### LINEARITY"
   ]
  },
  {
   "cell_type": "markdown",
   "metadata": {},
   "source": [
    "To create linear regression models, the relationship between the independent and dependent variable have to be linear. Using subplots and reg plots, the linearity of some of the independent variables is checked below."
   ]
  },
  {
   "cell_type": "code",
   "execution_count": 26,
   "metadata": {},
   "outputs": [
    {
     "data": {
      "text/plain": [
       "<matplotlib.axes._subplots.AxesSubplot at 0x2047be210c8>"
      ]
     },
     "execution_count": 26,
     "metadata": {},
     "output_type": "execute_result"
    },
    {
     "data": {
      "image/png": "[encoded data removed]",
      "text/plain": [
       "<Figure size 864x576 with 4 Axes>"
      ]
     },
     "metadata": {},
     "output_type": "display_data"
    }
   ],
   "source": [
    "#Creating figures and axes\n",
    "fig, [[ax1, ax2], [ax3, ax4]] = plt.subplots(figsize = (12,8), ncols=2, nrows = 2, sharey=False)\n",
    "\n",
    "#Creating a reg plot for Area in sq ft vs Price \n",
    "sns.regplot(x = 'Area in sq ft', y = 'Price', data = london, ax = ax1)\n",
    "\n",
    "#Creating reg plot for No. of Receptions vs Price \n",
    "sns.regplot(x = 'No. of Receptions', y = 'Price', data = london, ax = ax2)\n",
    "\n",
    "#Creating reg plot for No. of Bedrooms vs Price \n",
    "sns.regplot(x = 'No. of Bedrooms', y = 'Price', data = london, ax = ax3)\n",
    "\n",
    "#Creating reg plot for No. of Bathrooms vs Price \n",
    "sns.regplot(x = 'No. of Bathrooms', y = 'Price', data = london, ax = ax4)"
   ]
  },
  {
   "cell_type": "markdown",
   "metadata": {},
   "source": [
    "In the above plot, the dependent variable (Price) was plotted against the independent variables. \n",
    "\n",
    "The first plot appears to be linear with some outliers present. Others, as discussed above are categorical."
   ]
  },
  {
   "cell_type": "markdown",
   "metadata": {},
   "source": [
    "### HOMOSCEDASTICITY\n",
    "\n",
    "To check for the error variance, the residual plot can be used between the independent variable 'Area' and dependent variable. 'Price'."
   ]
  },
  {
   "cell_type": "code",
   "execution_count": 27,
   "metadata": {},
   "outputs": [
    {
     "data": {
      "text/plain": [
       "<matplotlib.axes._subplots.AxesSubplot at 0x2047c32bcc8>"
      ]
     },
     "execution_count": 27,
     "metadata": {},
     "output_type": "execute_result"
    },
    {
     "data": {
      "image/png": "[encoded data removed]",
      "text/plain": [
       "<Figure size 432x288 with 1 Axes>"
      ]
     },
     "metadata": {},
     "output_type": "display_data"
    }
   ],
   "source": [
    "sns.residplot(london['Area in sq ft'], london['Price'])"
   ]
  },
  {
   "cell_type": "markdown",
   "metadata": {},
   "source": [
    "The above residual plot is unstructured and shows an increment in variance as the area increases (Heteroscedasticity)."
   ]
  },
  {
   "cell_type": "markdown",
   "metadata": {},
   "source": [
    "In order to use a linear model, the dependent variable will be transformed using log1p to achieve a normal distribution."
   ]
  },
  {
   "cell_type": "code",
   "execution_count": 28,
   "metadata": {},
   "outputs": [],
   "source": [
    "london['Price'] = np.log1p(london['Price'])"
   ]
  },
  {
   "cell_type": "markdown",
   "metadata": {},
   "source": [
    "Now, the distribution of the target variable is checked again (using the previous function), to verify the normality. "
   ]
  },
  {
   "cell_type": "code",
   "execution_count": 29,
   "metadata": {},
   "outputs": [
    {
     "name": "stderr",
     "output_type": "stream",
     "text": [
      "C:\\Users\\Funmi\\Downloads\\ANACONDA\\lib\\site-packages\\ipykernel_launcher.py:12: UserWarning: This figure was using constrained_layout==True, but that is incompatible with subplots_adjust and or tight_layout: setting constrained_layout==False. \n",
      "  if sys.path[0] == '':\n"
     ]
    },
    {
     "data": {
      "image/png": "[encoded data removed]",
      "text/plain": [
       "<Figure size 1080x576 with 2 Axes>"
      ]
     },
     "metadata": {},
     "output_type": "display_data"
    }
   ],
   "source": [
    "skew_outlier(london, 'Price')"
   ]
  },
  {
   "cell_type": "markdown",
   "metadata": {},
   "source": [
    "From the above plot, the log1p corrects the distribution of the target variable, making it more symmetrically distributed. To verify this, the skewness will be checked."
   ]
  },
  {
   "cell_type": "code",
   "execution_count": 30,
   "metadata": {},
   "outputs": [
    {
     "name": "stdout",
     "output_type": "stream",
     "text": [
      "The new skewness of price is  0.6905530449995281\n",
      "The new kurtosis of price is  0.48228283244383796\n"
     ]
    }
   ],
   "source": [
    "new_skew = london['Price'].skew(axis = 0, skipna = True)\n",
    "new_kurt = london['Price'].kurt()\n",
    "\n",
    "print(\"The new skewness of price is \", new_skew)\n",
    "print(\"The new kurtosis of price is \", new_kurt)"
   ]
  },
  {
   "cell_type": "markdown",
   "metadata": {},
   "source": [
    "The skewness value for the target variable is better, as compared to the previous value obtained."
   ]
  },
  {
   "cell_type": "markdown",
   "metadata": {},
   "source": [
    "### MULTICOLLINEARITY\n",
    "\n",
    "Now that the target variable is more symmetrically distributed, it is also important to check the correlation between the independent variables. For a linear model, the correlation between independent variables is not expected to be high. "
   ]
  },
  {
   "cell_type": "code",
   "execution_count": 31,
   "metadata": {},
   "outputs": [
    {
     "data": {
      "text/plain": [
       "<matplotlib.axes._subplots.AxesSubplot at 0x2047c4d4e88>"
      ]
     },
     "execution_count": 31,
     "metadata": {},
     "output_type": "execute_result"
    },
    {
     "data": {
      "image/png": "[encoded data removed]",
      "text/plain": [
       "<Figure size 432x288 with 2 Axes>"
      ]
     },
     "metadata": {},
     "output_type": "display_data"
    }
   ],
   "source": [
    "sns.heatmap(london.corr(), annot=True)"
   ]
  },
  {
   "cell_type": "markdown",
   "metadata": {},
   "source": [
    "From the heatmap above, 3 independent variables are perfectly correlated to each other. They will be dropped during the pre modelling stage.\n",
    "\n",
    "With the correction of errors earlier done, the correlation between the target and independent variables is checked again."
   ]
  },
  {
   "cell_type": "code",
   "execution_count": 32,
   "metadata": {},
   "outputs": [
    {
     "data": {
      "text/plain": [
       "Area in sq ft        0.732674\n",
       "No. of Receptions    0.650584\n",
       "No. of Bathrooms     0.650584\n",
       "No. of Bedrooms      0.650584\n",
       "Name: Price, dtype: float64"
      ]
     },
     "execution_count": 32,
     "metadata": {},
     "output_type": "execute_result"
    }
   ],
   "source": [
    "london.corr()['Price'].sort_values(ascending = False)[1:]"
   ]
  },
  {
   "cell_type": "markdown",
   "metadata": {},
   "source": [
    "The correlations are higher with a better distribution across the dependent variable. "
   ]
  },
  {
   "cell_type": "markdown",
   "metadata": {},
   "source": [
    "Before proceeding to the pre modelling stage, the skewness of the numeric variables will be corrected."
   ]
  },
  {
   "cell_type": "code",
   "execution_count": 33,
   "metadata": {},
   "outputs": [
    {
     "name": "stderr",
     "output_type": "stream",
     "text": [
      "C:\\Users\\Funmi\\Downloads\\ANACONDA\\lib\\site-packages\\scipy\\stats\\stats.py:3508: PearsonRConstantInputWarning: An input array is constant; the correlation coefficent is not defined.\n",
      "  warnings.warn(PearsonRConstantInputWarning())\n"
     ]
    }
   ],
   "source": [
    "def skewness_fix(df):\n",
    "\n",
    "    ## Import necessary libraries \n",
    "    from scipy.special import boxcox1p\n",
    "    from scipy.stats import boxcox_normmax\n",
    "     \n",
    "    numeric_var = london.dtypes[london.dtypes != \"object\"].index\n",
    "    #Dropping the target variable since it has already been corrected above\n",
    "    numeric_var.drop(['Price'])\n",
    "\n",
    "    skew_var = london[numeric_var].apply(lambda x: skew(x)).sort_values(ascending=False)\n",
    "    high_skew = skew_var[abs(skew_var) > 0.5]\n",
    "    skew_var = high_skew.index\n",
    "\n",
    "    for var in skew_var:\n",
    "        df[var] = boxcox1p(df[var], boxcox_normmax(df[var] + 1))\n",
    "\n",
    "skewness_fix(london)"
   ]
  },
  {
   "cell_type": "code",
   "execution_count": 34,
   "metadata": {},
   "outputs": [
    {
     "data": {
      "text/plain": [
       "<matplotlib.axes._subplots.AxesSubplot at 0x2047c7828c8>"
      ]
     },
     "execution_count": 34,
     "metadata": {},
     "output_type": "execute_result"
    },
    {
     "data": {
      "image/png": "[encoded data removed]",
      "text/plain": [
       "<Figure size 432x288 with 1 Axes>"
      ]
     },
     "metadata": {},
     "output_type": "display_data"
    }
   ],
   "source": [
    "sns.distplot(london['Area in sq ft'])"
   ]
  },
  {
   "cell_type": "markdown",
   "metadata": {},
   "source": [
    "From the plot above, the skewness has been corrected and the area is now normally distributed. "
   ]
  },
  {
   "cell_type": "markdown",
   "metadata": {},
   "source": [
    "Next is to proceed to train the model and predict the prices after splitting the dataset."
   ]
  },
  {
   "cell_type": "markdown",
   "metadata": {},
   "source": [
    "## SECTION 3: MODEL PREDICTION"
   ]
  },
  {
   "cell_type": "markdown",
   "metadata": {},
   "source": [
    "##### PRE MODELING"
   ]
  },
  {
   "cell_type": "markdown",
   "metadata": {},
   "source": [
    "Before training the model, all the categorical features have to be converted to numerical.\n",
    "\n",
    "First, a quick view of the dataset."
   ]
  },
  {
   "cell_type": "code",
   "execution_count": 35,
   "metadata": {},
   "outputs": [
    {
     "data": {
      "text/html": [
       "<div>\n",
       "<style scoped>\n",
       "    .dataframe tbody tr th:only-of-type {\n",
       "        vertical-align: middle;\n",
       "    }\n",
       "\n",
       "    .dataframe tbody tr th {\n",
       "        vertical-align: top;\n",
       "    }\n",
       "\n",
       "    .dataframe thead th {\n",
       "        text-align: right;\n",
       "    }\n",
       "</style>\n",
       "<table border=\"1\" class=\"dataframe\">\n",
       "  <thead>\n",
       "    <tr style=\"text-align: right;\">\n",
       "      <th></th>\n",
       "      <th>Property Name</th>\n",
       "      <th>Price</th>\n",
       "      <th>House Type</th>\n",
       "      <th>Area in sq ft</th>\n",
       "      <th>No. of Bedrooms</th>\n",
       "      <th>No. of Bathrooms</th>\n",
       "      <th>No. of Receptions</th>\n",
       "      <th>City/County</th>\n",
       "      <th>Postal Code</th>\n",
       "    </tr>\n",
       "  </thead>\n",
       "  <tbody>\n",
       "    <tr>\n",
       "      <th>0</th>\n",
       "      <td>Queens Road</td>\n",
       "      <td>0.239396</td>\n",
       "      <td>House</td>\n",
       "      <td>3.585071</td>\n",
       "      <td>2.397647</td>\n",
       "      <td>2.397647</td>\n",
       "      <td>2.397647</td>\n",
       "      <td>London</td>\n",
       "      <td>SW19 8NY</td>\n",
       "    </tr>\n",
       "    <tr>\n",
       "      <th>1</th>\n",
       "      <td>Seward Street</td>\n",
       "      <td>0.239395</td>\n",
       "      <td>Flat / Apartment</td>\n",
       "      <td>3.369072</td>\n",
       "      <td>1.309444</td>\n",
       "      <td>1.309444</td>\n",
       "      <td>1.309444</td>\n",
       "      <td>London</td>\n",
       "      <td>EC1V 3PA</td>\n",
       "    </tr>\n",
       "    <tr>\n",
       "      <th>2</th>\n",
       "      <td>Hotham Road</td>\n",
       "      <td>0.239395</td>\n",
       "      <td>Flat / Apartment</td>\n",
       "      <td>3.355107</td>\n",
       "      <td>1.309444</td>\n",
       "      <td>1.309444</td>\n",
       "      <td>1.309444</td>\n",
       "      <td>London</td>\n",
       "      <td>SW15 1QL</td>\n",
       "    </tr>\n",
       "    <tr>\n",
       "      <th>3</th>\n",
       "      <td>Festing Road</td>\n",
       "      <td>0.239396</td>\n",
       "      <td>House</td>\n",
       "      <td>3.534694</td>\n",
       "      <td>2.088324</td>\n",
       "      <td>2.088324</td>\n",
       "      <td>2.088324</td>\n",
       "      <td>London</td>\n",
       "      <td>SW15 1LP</td>\n",
       "    </tr>\n",
       "    <tr>\n",
       "      <th>4</th>\n",
       "      <td>Spencer Walk</td>\n",
       "      <td>0.239395</td>\n",
       "      <td>Flat / Apartment</td>\n",
       "      <td>3.337468</td>\n",
       "      <td>1.309444</td>\n",
       "      <td>1.309444</td>\n",
       "      <td>1.309444</td>\n",
       "      <td>London</td>\n",
       "      <td>SW15 1PL</td>\n",
       "    </tr>\n",
       "  </tbody>\n",
       "</table>\n",
       "</div>"
      ],
      "text/plain": [
       "   Property Name     Price        House Type  Area in sq ft  No. of Bedrooms  \\\n",
       "0    Queens Road  0.239396             House       3.585071         2.397647   \n",
       "1  Seward Street  0.239395  Flat / Apartment       3.369072         1.309444   \n",
       "2    Hotham Road  0.239395  Flat / Apartment       3.355107         1.309444   \n",
       "3   Festing Road  0.239396             House       3.534694         2.088324   \n",
       "4   Spencer Walk  0.239395  Flat / Apartment       3.337468         1.309444   \n",
       "\n",
       "   No. of Bathrooms  No. of Receptions City/County Postal Code  \n",
       "0          2.397647           2.397647      London    SW19 8NY  \n",
       "1          1.309444           1.309444      London    EC1V 3PA  \n",
       "2          1.309444           1.309444      London    SW15 1QL  \n",
       "3          2.088324           2.088324      London    SW15 1LP  \n",
       "4          1.309444           1.309444      London    SW15 1PL  "
      ]
     },
     "execution_count": 35,
     "metadata": {},
     "output_type": "execute_result"
    }
   ],
   "source": [
    "london.head(5)"
   ]
  },
  {
   "cell_type": "markdown",
   "metadata": {},
   "source": [
    "There are 7 independent categorical features in the dataframe.\n",
    "\n",
    "First, postal code"
   ]
  },
  {
   "cell_type": "code",
   "execution_count": 36,
   "metadata": {},
   "outputs": [
    {
     "data": {
      "text/plain": [
       "2845"
      ]
     },
     "execution_count": 36,
     "metadata": {},
     "output_type": "execute_result"
    }
   ],
   "source": [
    "london['Postal Code'].nunique()"
   ]
  },
  {
   "cell_type": "markdown",
   "metadata": {},
   "source": [
    "There are 2845 unique values for postal codes. This feature will not be relevant for the purpose of the model to predict prices of properties."
   ]
  },
  {
   "cell_type": "code",
   "execution_count": 37,
   "metadata": {},
   "outputs": [
    {
     "data": {
      "text/html": [
       "<div>\n",
       "<style scoped>\n",
       "    .dataframe tbody tr th:only-of-type {\n",
       "        vertical-align: middle;\n",
       "    }\n",
       "\n",
       "    .dataframe tbody tr th {\n",
       "        vertical-align: top;\n",
       "    }\n",
       "\n",
       "    .dataframe thead th {\n",
       "        text-align: right;\n",
       "    }\n",
       "</style>\n",
       "<table border=\"1\" class=\"dataframe\">\n",
       "  <thead>\n",
       "    <tr style=\"text-align: right;\">\n",
       "      <th></th>\n",
       "      <th>Property Name</th>\n",
       "      <th>Price</th>\n",
       "      <th>House Type</th>\n",
       "      <th>Area in sq ft</th>\n",
       "      <th>No. of Bedrooms</th>\n",
       "      <th>No. of Bathrooms</th>\n",
       "      <th>No. of Receptions</th>\n",
       "      <th>City/County</th>\n",
       "    </tr>\n",
       "  </thead>\n",
       "  <tbody>\n",
       "    <tr>\n",
       "      <th>0</th>\n",
       "      <td>Queens Road</td>\n",
       "      <td>0.239396</td>\n",
       "      <td>House</td>\n",
       "      <td>3.585071</td>\n",
       "      <td>2.397647</td>\n",
       "      <td>2.397647</td>\n",
       "      <td>2.397647</td>\n",
       "      <td>London</td>\n",
       "    </tr>\n",
       "    <tr>\n",
       "      <th>1</th>\n",
       "      <td>Seward Street</td>\n",
       "      <td>0.239395</td>\n",
       "      <td>Flat / Apartment</td>\n",
       "      <td>3.369072</td>\n",
       "      <td>1.309444</td>\n",
       "      <td>1.309444</td>\n",
       "      <td>1.309444</td>\n",
       "      <td>London</td>\n",
       "    </tr>\n",
       "    <tr>\n",
       "      <th>2</th>\n",
       "      <td>Hotham Road</td>\n",
       "      <td>0.239395</td>\n",
       "      <td>Flat / Apartment</td>\n",
       "      <td>3.355107</td>\n",
       "      <td>1.309444</td>\n",
       "      <td>1.309444</td>\n",
       "      <td>1.309444</td>\n",
       "      <td>London</td>\n",
       "    </tr>\n",
       "    <tr>\n",
       "      <th>3</th>\n",
       "      <td>Festing Road</td>\n",
       "      <td>0.239396</td>\n",
       "      <td>House</td>\n",
       "      <td>3.534694</td>\n",
       "      <td>2.088324</td>\n",
       "      <td>2.088324</td>\n",
       "      <td>2.088324</td>\n",
       "      <td>London</td>\n",
       "    </tr>\n",
       "    <tr>\n",
       "      <th>4</th>\n",
       "      <td>Spencer Walk</td>\n",
       "      <td>0.239395</td>\n",
       "      <td>Flat / Apartment</td>\n",
       "      <td>3.337468</td>\n",
       "      <td>1.309444</td>\n",
       "      <td>1.309444</td>\n",
       "      <td>1.309444</td>\n",
       "      <td>London</td>\n",
       "    </tr>\n",
       "  </tbody>\n",
       "</table>\n",
       "</div>"
      ],
      "text/plain": [
       "   Property Name     Price        House Type  Area in sq ft  No. of Bedrooms  \\\n",
       "0    Queens Road  0.239396             House       3.585071         2.397647   \n",
       "1  Seward Street  0.239395  Flat / Apartment       3.369072         1.309444   \n",
       "2    Hotham Road  0.239395  Flat / Apartment       3.355107         1.309444   \n",
       "3   Festing Road  0.239396             House       3.534694         2.088324   \n",
       "4   Spencer Walk  0.239395  Flat / Apartment       3.337468         1.309444   \n",
       "\n",
       "   No. of Bathrooms  No. of Receptions City/County  \n",
       "0          2.397647           2.397647      London  \n",
       "1          1.309444           1.309444      London  \n",
       "2          1.309444           1.309444      London  \n",
       "3          2.088324           2.088324      London  \n",
       "4          1.309444           1.309444      London  "
      ]
     },
     "execution_count": 37,
     "metadata": {},
     "output_type": "execute_result"
    }
   ],
   "source": [
    "london.drop(['Postal Code'], axis = 1, inplace = True)\n",
    "london.head()"
   ]
  },
  {
   "cell_type": "code",
   "execution_count": 38,
   "metadata": {},
   "outputs": [
    {
     "data": {
      "text/plain": [
       "2380"
      ]
     },
     "execution_count": 38,
     "metadata": {},
     "output_type": "execute_result"
    }
   ],
   "source": [
    "london['Property Name'].nunique()"
   ]
  },
  {
   "cell_type": "markdown",
   "metadata": {},
   "source": [
    "There are 2380 unique values for property names. This feature will not be relevant for the purpose of the model to predict prices of properties."
   ]
  },
  {
   "cell_type": "code",
   "execution_count": 39,
   "metadata": {},
   "outputs": [
    {
     "data": {
      "text/html": [
       "<div>\n",
       "<style scoped>\n",
       "    .dataframe tbody tr th:only-of-type {\n",
       "        vertical-align: middle;\n",
       "    }\n",
       "\n",
       "    .dataframe tbody tr th {\n",
       "        vertical-align: top;\n",
       "    }\n",
       "\n",
       "    .dataframe thead th {\n",
       "        text-align: right;\n",
       "    }\n",
       "</style>\n",
       "<table border=\"1\" class=\"dataframe\">\n",
       "  <thead>\n",
       "    <tr style=\"text-align: right;\">\n",
       "      <th></th>\n",
       "      <th>Price</th>\n",
       "      <th>House Type</th>\n",
       "      <th>Area in sq ft</th>\n",
       "      <th>No. of Bedrooms</th>\n",
       "      <th>No. of Bathrooms</th>\n",
       "      <th>No. of Receptions</th>\n",
       "      <th>City/County</th>\n",
       "    </tr>\n",
       "  </thead>\n",
       "  <tbody>\n",
       "    <tr>\n",
       "      <th>0</th>\n",
       "      <td>0.239396</td>\n",
       "      <td>House</td>\n",
       "      <td>3.585071</td>\n",
       "      <td>2.397647</td>\n",
       "      <td>2.397647</td>\n",
       "      <td>2.397647</td>\n",
       "      <td>London</td>\n",
       "    </tr>\n",
       "    <tr>\n",
       "      <th>1</th>\n",
       "      <td>0.239395</td>\n",
       "      <td>Flat / Apartment</td>\n",
       "      <td>3.369072</td>\n",
       "      <td>1.309444</td>\n",
       "      <td>1.309444</td>\n",
       "      <td>1.309444</td>\n",
       "      <td>London</td>\n",
       "    </tr>\n",
       "    <tr>\n",
       "      <th>2</th>\n",
       "      <td>0.239395</td>\n",
       "      <td>Flat / Apartment</td>\n",
       "      <td>3.355107</td>\n",
       "      <td>1.309444</td>\n",
       "      <td>1.309444</td>\n",
       "      <td>1.309444</td>\n",
       "      <td>London</td>\n",
       "    </tr>\n",
       "    <tr>\n",
       "      <th>3</th>\n",
       "      <td>0.239396</td>\n",
       "      <td>House</td>\n",
       "      <td>3.534694</td>\n",
       "      <td>2.088324</td>\n",
       "      <td>2.088324</td>\n",
       "      <td>2.088324</td>\n",
       "      <td>London</td>\n",
       "    </tr>\n",
       "    <tr>\n",
       "      <th>4</th>\n",
       "      <td>0.239395</td>\n",
       "      <td>Flat / Apartment</td>\n",
       "      <td>3.337468</td>\n",
       "      <td>1.309444</td>\n",
       "      <td>1.309444</td>\n",
       "      <td>1.309444</td>\n",
       "      <td>London</td>\n",
       "    </tr>\n",
       "  </tbody>\n",
       "</table>\n",
       "</div>"
      ],
      "text/plain": [
       "      Price        House Type  Area in sq ft  No. of Bedrooms  \\\n",
       "0  0.239396             House       3.585071         2.397647   \n",
       "1  0.239395  Flat / Apartment       3.369072         1.309444   \n",
       "2  0.239395  Flat / Apartment       3.355107         1.309444   \n",
       "3  0.239396             House       3.534694         2.088324   \n",
       "4  0.239395  Flat / Apartment       3.337468         1.309444   \n",
       "\n",
       "   No. of Bathrooms  No. of Receptions City/County  \n",
       "0          2.397647           2.397647      London  \n",
       "1          1.309444           1.309444      London  \n",
       "2          1.309444           1.309444      London  \n",
       "3          2.088324           2.088324      London  \n",
       "4          1.309444           1.309444      London  "
      ]
     },
     "execution_count": 39,
     "metadata": {},
     "output_type": "execute_result"
    }
   ],
   "source": [
    "london.drop(['Property Name'], axis = 1, inplace = True)\n",
    "london.head()"
   ]
  },
  {
   "cell_type": "markdown",
   "metadata": {},
   "source": [
    "##### Detecting outliers"
   ]
  },
  {
   "cell_type": "code",
   "execution_count": 40,
   "metadata": {},
   "outputs": [],
   "source": [
    "london_out = london.copy()\n",
    "london_out.drop(['Price'], axis = 1, inplace = True)\n",
    "\n",
    "#lower quartile\n",
    "Q1 = london_out.quantile(0.25)\n",
    "\n",
    "#upper quartile\n",
    "Q3 = london_out.quantile(0.75)\n",
    "\n",
    "#Interquartile range\n",
    "IQR = Q3 - Q1"
   ]
  },
  {
   "cell_type": "code",
   "execution_count": 41,
   "metadata": {},
   "outputs": [],
   "source": [
    "up = (london_out < (Q1 - 1.5 * IQR)).sum()"
   ]
  },
  {
   "cell_type": "code",
   "execution_count": 42,
   "metadata": {},
   "outputs": [],
   "source": [
    "lo = (london_out > (Q3 + 1.5 * IQR)).sum()"
   ]
  },
  {
   "cell_type": "code",
   "execution_count": 43,
   "metadata": {},
   "outputs": [
    {
     "data": {
      "text/plain": [
       "Area in sq ft         0\n",
       "City/County           0\n",
       "House Type            0\n",
       "No. of Bathrooms     14\n",
       "No. of Bedrooms      14\n",
       "No. of Receptions    14\n",
       "dtype: int64"
      ]
     },
     "execution_count": 43,
     "metadata": {},
     "output_type": "execute_result"
    }
   ],
   "source": [
    "london_outliers = up + lo\n",
    "london_outliers"
   ]
  },
  {
   "cell_type": "markdown",
   "metadata": {},
   "source": [
    "As seen, the outliers are only in the no. of bathrooms, bedrooms and receptions. If need be, this will be dealt with later."
   ]
  },
  {
   "cell_type": "markdown",
   "metadata": {},
   "source": [
    "The categorical features cannot be fit in the regression model. Therefore, they are converted to numerical variables using dummy variables. However, the data is firstly duplicated (to london2) to retain the original dataframe."
   ]
  },
  {
   "cell_type": "code",
   "execution_count": 44,
   "metadata": {},
   "outputs": [
    {
     "data": {
      "text/html": [
       "<div>\n",
       "<style scoped>\n",
       "    .dataframe tbody tr th:only-of-type {\n",
       "        vertical-align: middle;\n",
       "    }\n",
       "\n",
       "    .dataframe tbody tr th {\n",
       "        vertical-align: top;\n",
       "    }\n",
       "\n",
       "    .dataframe thead th {\n",
       "        text-align: right;\n",
       "    }\n",
       "</style>\n",
       "<table border=\"1\" class=\"dataframe\">\n",
       "  <thead>\n",
       "    <tr style=\"text-align: right;\">\n",
       "      <th></th>\n",
       "      <th>Price</th>\n",
       "      <th>Area in sq ft</th>\n",
       "      <th>House Type_Duplex</th>\n",
       "      <th>House Type_Flat / Apartment</th>\n",
       "      <th>House Type_House</th>\n",
       "      <th>House Type_Mews</th>\n",
       "      <th>House Type_New development</th>\n",
       "      <th>House Type_Penthouse</th>\n",
       "      <th>House Type_Studio</th>\n",
       "      <th>City/County_27 Carlton Drive</th>\n",
       "      <th>...</th>\n",
       "      <th>City/County_Surrey</th>\n",
       "      <th>City/County_Surrey Quays</th>\n",
       "      <th>City/County_Thames Ditton</th>\n",
       "      <th>City/County_The Metal Works</th>\n",
       "      <th>City/County_Thurleigh Road</th>\n",
       "      <th>City/County_Twickenham</th>\n",
       "      <th>City/County_Wandsworth</th>\n",
       "      <th>City/County_Watford</th>\n",
       "      <th>City/County_Wimbledon</th>\n",
       "      <th>City/County_Wornington Road</th>\n",
       "    </tr>\n",
       "  </thead>\n",
       "  <tbody>\n",
       "    <tr>\n",
       "      <th>0</th>\n",
       "      <td>0.239396</td>\n",
       "      <td>3.585071</td>\n",
       "      <td>0</td>\n",
       "      <td>0</td>\n",
       "      <td>1</td>\n",
       "      <td>0</td>\n",
       "      <td>0</td>\n",
       "      <td>0</td>\n",
       "      <td>0</td>\n",
       "      <td>0</td>\n",
       "      <td>...</td>\n",
       "      <td>0</td>\n",
       "      <td>0</td>\n",
       "      <td>0</td>\n",
       "      <td>0</td>\n",
       "      <td>0</td>\n",
       "      <td>0</td>\n",
       "      <td>0</td>\n",
       "      <td>0</td>\n",
       "      <td>0</td>\n",
       "      <td>0</td>\n",
       "    </tr>\n",
       "    <tr>\n",
       "      <th>1</th>\n",
       "      <td>0.239395</td>\n",
       "      <td>3.369072</td>\n",
       "      <td>0</td>\n",
       "      <td>1</td>\n",
       "      <td>0</td>\n",
       "      <td>0</td>\n",
       "      <td>0</td>\n",
       "      <td>0</td>\n",
       "      <td>0</td>\n",
       "      <td>0</td>\n",
       "      <td>...</td>\n",
       "      <td>0</td>\n",
       "      <td>0</td>\n",
       "      <td>0</td>\n",
       "      <td>0</td>\n",
       "      <td>0</td>\n",
       "      <td>0</td>\n",
       "      <td>0</td>\n",
       "      <td>0</td>\n",
       "      <td>0</td>\n",
       "      <td>0</td>\n",
       "    </tr>\n",
       "    <tr>\n",
       "      <th>2</th>\n",
       "      <td>0.239395</td>\n",
       "      <td>3.355107</td>\n",
       "      <td>0</td>\n",
       "      <td>1</td>\n",
       "      <td>0</td>\n",
       "      <td>0</td>\n",
       "      <td>0</td>\n",
       "      <td>0</td>\n",
       "      <td>0</td>\n",
       "      <td>0</td>\n",
       "      <td>...</td>\n",
       "      <td>0</td>\n",
       "      <td>0</td>\n",
       "      <td>0</td>\n",
       "      <td>0</td>\n",
       "      <td>0</td>\n",
       "      <td>0</td>\n",
       "      <td>0</td>\n",
       "      <td>0</td>\n",
       "      <td>0</td>\n",
       "      <td>0</td>\n",
       "    </tr>\n",
       "    <tr>\n",
       "      <th>3</th>\n",
       "      <td>0.239396</td>\n",
       "      <td>3.534694</td>\n",
       "      <td>0</td>\n",
       "      <td>0</td>\n",
       "      <td>1</td>\n",
       "      <td>0</td>\n",
       "      <td>0</td>\n",
       "      <td>0</td>\n",
       "      <td>0</td>\n",
       "      <td>0</td>\n",
       "      <td>...</td>\n",
       "      <td>0</td>\n",
       "      <td>0</td>\n",
       "      <td>0</td>\n",
       "      <td>0</td>\n",
       "      <td>0</td>\n",
       "      <td>0</td>\n",
       "      <td>0</td>\n",
       "      <td>0</td>\n",
       "      <td>0</td>\n",
       "      <td>0</td>\n",
       "    </tr>\n",
       "    <tr>\n",
       "      <th>4</th>\n",
       "      <td>0.239395</td>\n",
       "      <td>3.337468</td>\n",
       "      <td>0</td>\n",
       "      <td>1</td>\n",
       "      <td>0</td>\n",
       "      <td>0</td>\n",
       "      <td>0</td>\n",
       "      <td>0</td>\n",
       "      <td>0</td>\n",
       "      <td>0</td>\n",
       "      <td>...</td>\n",
       "      <td>0</td>\n",
       "      <td>0</td>\n",
       "      <td>0</td>\n",
       "      <td>0</td>\n",
       "      <td>0</td>\n",
       "      <td>0</td>\n",
       "      <td>0</td>\n",
       "      <td>0</td>\n",
       "      <td>0</td>\n",
       "      <td>0</td>\n",
       "    </tr>\n",
       "  </tbody>\n",
       "</table>\n",
       "<p>5 rows × 65 columns</p>\n",
       "</div>"
      ],
      "text/plain": [
       "      Price  Area in sq ft  House Type_Duplex  House Type_Flat / Apartment  \\\n",
       "0  0.239396       3.585071                  0                            0   \n",
       "1  0.239395       3.369072                  0                            1   \n",
       "2  0.239395       3.355107                  0                            1   \n",
       "3  0.239396       3.534694                  0                            0   \n",
       "4  0.239395       3.337468                  0                            1   \n",
       "\n",
       "   House Type_House  House Type_Mews  House Type_New development  \\\n",
       "0                 1                0                           0   \n",
       "1                 0                0                           0   \n",
       "2                 0                0                           0   \n",
       "3                 1                0                           0   \n",
       "4                 0                0                           0   \n",
       "\n",
       "   House Type_Penthouse  House Type_Studio  City/County_27 Carlton Drive  ...  \\\n",
       "0                     0                  0                             0  ...   \n",
       "1                     0                  0                             0  ...   \n",
       "2                     0                  0                             0  ...   \n",
       "3                     0                  0                             0  ...   \n",
       "4                     0                  0                             0  ...   \n",
       "\n",
       "   City/County_Surrey  City/County_Surrey Quays  City/County_Thames Ditton  \\\n",
       "0                   0                         0                          0   \n",
       "1                   0                         0                          0   \n",
       "2                   0                         0                          0   \n",
       "3                   0                         0                          0   \n",
       "4                   0                         0                          0   \n",
       "\n",
       "   City/County_The Metal Works  City/County_Thurleigh Road  \\\n",
       "0                            0                           0   \n",
       "1                            0                           0   \n",
       "2                            0                           0   \n",
       "3                            0                           0   \n",
       "4                            0                           0   \n",
       "\n",
       "   City/County_Twickenham  City/County_Wandsworth  City/County_Watford  \\\n",
       "0                       0                       0                    0   \n",
       "1                       0                       0                    0   \n",
       "2                       0                       0                    0   \n",
       "3                       0                       0                    0   \n",
       "4                       0                       0                    0   \n",
       "\n",
       "   City/County_Wimbledon  City/County_Wornington Road  \n",
       "0                      0                            0  \n",
       "1                      0                            0  \n",
       "2                      0                            0  \n",
       "3                      0                            0  \n",
       "4                      0                            0  \n",
       "\n",
       "[5 rows x 65 columns]"
      ]
     },
     "execution_count": 44,
     "metadata": {},
     "output_type": "execute_result"
    }
   ],
   "source": [
    "#Creating dummy variables for the categorical columns.\n",
    "london2 = london.copy()\n",
    "\n",
    "#Dropping those independent variables that had high multicollinearity between themselves\n",
    "london2.drop(['No. of Bedrooms', 'No. of Bathrooms', 'No. of Receptions'], axis = 1, inplace = True)\n",
    "\n",
    "london2 = pd.get_dummies(london2, columns = ['House Type', 'City/County'], drop_first=True)\n",
    "london2.head()"
   ]
  },
  {
   "cell_type": "markdown",
   "metadata": {},
   "source": [
    "### REGRESSION MODELS"
   ]
  },
  {
   "cell_type": "markdown",
   "metadata": {},
   "source": [
    "##### SIMPLE LINEAR REGRESSION"
   ]
  },
  {
   "cell_type": "markdown",
   "metadata": {},
   "source": [
    "For this model, the original dataframe, london will be used.\n",
    "\n",
    "To creat a simple linear regression model, just one independent variable is used to predict the dependent variable. In this case, the variable with the highest correlation with Price will be used.\n",
    "\n",
    "A quick check of their correlation before proceeding."
   ]
  },
  {
   "cell_type": "code",
   "execution_count": 45,
   "metadata": {},
   "outputs": [
    {
     "data": {
      "text/html": [
       "<div>\n",
       "<style scoped>\n",
       "    .dataframe tbody tr th:only-of-type {\n",
       "        vertical-align: middle;\n",
       "    }\n",
       "\n",
       "    .dataframe tbody tr th {\n",
       "        vertical-align: top;\n",
       "    }\n",
       "\n",
       "    .dataframe thead th {\n",
       "        text-align: right;\n",
       "    }\n",
       "</style>\n",
       "<table border=\"1\" class=\"dataframe\">\n",
       "  <thead>\n",
       "    <tr style=\"text-align: right;\">\n",
       "      <th></th>\n",
       "      <th>Price</th>\n",
       "      <th>House Type</th>\n",
       "      <th>Area in sq ft</th>\n",
       "      <th>No. of Bedrooms</th>\n",
       "      <th>No. of Bathrooms</th>\n",
       "      <th>No. of Receptions</th>\n",
       "      <th>City/County</th>\n",
       "    </tr>\n",
       "  </thead>\n",
       "  <tbody>\n",
       "    <tr>\n",
       "      <th>0</th>\n",
       "      <td>0.239396</td>\n",
       "      <td>House</td>\n",
       "      <td>3.585071</td>\n",
       "      <td>2.397647</td>\n",
       "      <td>2.397647</td>\n",
       "      <td>2.397647</td>\n",
       "      <td>London</td>\n",
       "    </tr>\n",
       "    <tr>\n",
       "      <th>1</th>\n",
       "      <td>0.239395</td>\n",
       "      <td>Flat / Apartment</td>\n",
       "      <td>3.369072</td>\n",
       "      <td>1.309444</td>\n",
       "      <td>1.309444</td>\n",
       "      <td>1.309444</td>\n",
       "      <td>London</td>\n",
       "    </tr>\n",
       "    <tr>\n",
       "      <th>2</th>\n",
       "      <td>0.239395</td>\n",
       "      <td>Flat / Apartment</td>\n",
       "      <td>3.355107</td>\n",
       "      <td>1.309444</td>\n",
       "      <td>1.309444</td>\n",
       "      <td>1.309444</td>\n",
       "      <td>London</td>\n",
       "    </tr>\n",
       "    <tr>\n",
       "      <th>3</th>\n",
       "      <td>0.239396</td>\n",
       "      <td>House</td>\n",
       "      <td>3.534694</td>\n",
       "      <td>2.088324</td>\n",
       "      <td>2.088324</td>\n",
       "      <td>2.088324</td>\n",
       "      <td>London</td>\n",
       "    </tr>\n",
       "    <tr>\n",
       "      <th>4</th>\n",
       "      <td>0.239395</td>\n",
       "      <td>Flat / Apartment</td>\n",
       "      <td>3.337468</td>\n",
       "      <td>1.309444</td>\n",
       "      <td>1.309444</td>\n",
       "      <td>1.309444</td>\n",
       "      <td>London</td>\n",
       "    </tr>\n",
       "  </tbody>\n",
       "</table>\n",
       "</div>"
      ],
      "text/plain": [
       "      Price        House Type  Area in sq ft  No. of Bedrooms  \\\n",
       "0  0.239396             House       3.585071         2.397647   \n",
       "1  0.239395  Flat / Apartment       3.369072         1.309444   \n",
       "2  0.239395  Flat / Apartment       3.355107         1.309444   \n",
       "3  0.239396             House       3.534694         2.088324   \n",
       "4  0.239395  Flat / Apartment       3.337468         1.309444   \n",
       "\n",
       "   No. of Bathrooms  No. of Receptions City/County  \n",
       "0          2.397647           2.397647      London  \n",
       "1          1.309444           1.309444      London  \n",
       "2          1.309444           1.309444      London  \n",
       "3          2.088324           2.088324      London  \n",
       "4          1.309444           1.309444      London  "
      ]
     },
     "execution_count": 45,
     "metadata": {},
     "output_type": "execute_result"
    }
   ],
   "source": [
    "london.head()"
   ]
  },
  {
   "cell_type": "code",
   "execution_count": 46,
   "metadata": {},
   "outputs": [
    {
     "name": "stdout",
     "output_type": "stream",
     "text": [
      "The correlation between \"Area in sq ft\" and \"Price\" is 0.8425996930166605.\n"
     ]
    }
   ],
   "source": [
    "area_corr = london['Area in sq ft'].corr(london['Price'])\n",
    "print('The correlation between \"Area in sq ft\" and \"Price\" is {}.'.format(area_corr))"
   ]
  },
  {
   "cell_type": "markdown",
   "metadata": {},
   "source": [
    "It is clear that there exists a high correlation between area and price."
   ]
  },
  {
   "cell_type": "markdown",
   "metadata": {},
   "source": [
    "Next, the dependent variable(Price) and independent variable(Area in sq ft) are separated before splitting the data to train and test."
   ]
  },
  {
   "cell_type": "code",
   "execution_count": 47,
   "metadata": {},
   "outputs": [],
   "source": [
    "X = london['Area in sq ft']\n",
    "Y = london['Price']\n",
    "\n",
    "X = X.values.reshape(-1, 1)\n",
    "Y = Y.values.reshape(-1, 1)"
   ]
  },
  {
   "cell_type": "code",
   "execution_count": 48,
   "metadata": {},
   "outputs": [
    {
     "name": "stdout",
     "output_type": "stream",
     "text": [
      "The number of samples in this data set is 3480.\n"
     ]
    }
   ],
   "source": [
    "print(\"The number of samples in this data set is {}.\".format(X.shape[0]))"
   ]
  },
  {
   "cell_type": "code",
   "execution_count": 49,
   "metadata": {},
   "outputs": [
    {
     "name": "stdout",
     "output_type": "stream",
     "text": [
      "The number of samples in this data set is 3480\n"
     ]
    }
   ],
   "source": [
    "print(\"The number of samples in this data set is {}\".format(Y.shape[0]))"
   ]
  },
  {
   "cell_type": "markdown",
   "metadata": {},
   "source": [
    "##### Splitting data to train and test"
   ]
  },
  {
   "cell_type": "code",
   "execution_count": 50,
   "metadata": {},
   "outputs": [],
   "source": [
    "from sklearn.model_selection import train_test_split\n",
    "train_x, test_x, train_y, test_y = train_test_split(X, Y, test_size = 0.2, random_state = 0)"
   ]
  },
  {
   "cell_type": "code",
   "execution_count": 51,
   "metadata": {},
   "outputs": [
    {
     "name": "stdout",
     "output_type": "stream",
     "text": [
      "The first five samples [[3.34078546]\n",
      " [3.35483182]\n",
      " [3.47744351]\n",
      " [3.6838928 ]\n",
      " [3.6766705 ]]\n",
      "The first five targets [[0.2393957 ]\n",
      " [0.23939498]\n",
      " [0.2393957 ]\n",
      " [0.23939709]\n",
      " [0.23939619]]\n",
      "The number of samples in train set is 2784\n",
      "The number of samples in test set is 696\n"
     ]
    }
   ],
   "source": [
    "print(\"The first five samples {}\".format(train_x[:5]))\n",
    "print(\"The first five targets {}\".format(train_y[:5]))\n",
    "print(\"The number of samples in train set is {}\".format(train_x.shape[0]))\n",
    "print(\"The number of samples in test set is {}\".format(test_x.shape[0]))"
   ]
  },
  {
   "cell_type": "code",
   "execution_count": 52,
   "metadata": {},
   "outputs": [
    {
     "name": "stdout",
     "output_type": "stream",
     "text": [
      "The Mean Squared Error 1.0440814900756078e-13\n",
      "\n",
      "The Model score (coefficient of determination) for the test data set is  0.669210574068296\n",
      "\n",
      "The Model score (coefficient of determination) for the train data set is  0.7193028401288176\n",
      "\n",
      "The Mean Absolute Error (MAE) is  2.5471036410819213e-07\n",
      "\n",
      "The Root Mean Square Error (RMSE) is  3.231224984546275e-07\n",
      "\n",
      "The original and predicted prices are as below;\n",
      "\n",
      "       Actual  Predicted\n",
      "0    0.239395   0.239395\n",
      "1    0.239396   0.239396\n",
      "2    0.239396   0.239396\n",
      "3    0.239394   0.239395\n",
      "4    0.239396   0.239396\n",
      "..        ...        ...\n",
      "691  0.239395   0.239395\n",
      "692  0.239394   0.239395\n",
      "693  0.239395   0.239396\n",
      "694  0.239396   0.239395\n",
      "695  0.239397   0.239396\n",
      "\n",
      "[696 rows x 2 columns]\n"
     ]
    }
   ],
   "source": [
    "from sklearn.linear_model import LinearRegression\n",
    "from sklearn.metrics import mean_absolute_error\n",
    "from sklearn.metrics import mean_squared_error\n",
    "import sklearn.metrics as metrics\n",
    "import math\n",
    "\n",
    "lr = LinearRegression()\n",
    "lr.fit(train_x, train_y)\n",
    "lrpred_y = lr.predict(test_x)\n",
    "mse = metrics.mean_squared_error(test_y, lrpred_y)\n",
    "\n",
    "print(\"The Mean Squared Error {}\".format(mse))\n",
    "print()\n",
    "print(\"The Model score (coefficient of determination) for the test data set is \", lr.score(test_x,test_y))\n",
    "print()\n",
    "print(\"The Model score (coefficient of determination) for the train data set is \", lr.score(train_x,train_y))\n",
    "print()\n",
    "print(\"The Mean Absolute Error (MAE) is \", mean_absolute_error(test_y, lrpred_y))\n",
    "print()\n",
    "print(\"The Root Mean Square Error (RMSE) is \", math.sqrt(mean_squared_error(test_y, lrpred_y)))\n",
    "print()\n",
    "\n",
    "df1 = pd.DataFrame({'Actual': test_y.flatten(), 'Predicted': lrpred_y.flatten()})\n",
    "print('The original and predicted prices are as below;')\n",
    "print()\n",
    "print(df1)"
   ]
  },
  {
   "cell_type": "markdown",
   "metadata": {},
   "source": [
    "##### MULTIPLE LINEAR REGRESSION"
   ]
  },
  {
   "cell_type": "code",
   "execution_count": 53,
   "metadata": {},
   "outputs": [
    {
     "data": {
      "text/html": [
       "<div>\n",
       "<style scoped>\n",
       "    .dataframe tbody tr th:only-of-type {\n",
       "        vertical-align: middle;\n",
       "    }\n",
       "\n",
       "    .dataframe tbody tr th {\n",
       "        vertical-align: top;\n",
       "    }\n",
       "\n",
       "    .dataframe thead th {\n",
       "        text-align: right;\n",
       "    }\n",
       "</style>\n",
       "<table border=\"1\" class=\"dataframe\">\n",
       "  <thead>\n",
       "    <tr style=\"text-align: right;\">\n",
       "      <th></th>\n",
       "      <th>Price</th>\n",
       "      <th>Area in sq ft</th>\n",
       "      <th>House Type_Duplex</th>\n",
       "      <th>House Type_Flat / Apartment</th>\n",
       "      <th>House Type_House</th>\n",
       "      <th>House Type_Mews</th>\n",
       "      <th>House Type_New development</th>\n",
       "      <th>House Type_Penthouse</th>\n",
       "      <th>House Type_Studio</th>\n",
       "      <th>City/County_27 Carlton Drive</th>\n",
       "      <th>...</th>\n",
       "      <th>City/County_Surrey</th>\n",
       "      <th>City/County_Surrey Quays</th>\n",
       "      <th>City/County_Thames Ditton</th>\n",
       "      <th>City/County_The Metal Works</th>\n",
       "      <th>City/County_Thurleigh Road</th>\n",
       "      <th>City/County_Twickenham</th>\n",
       "      <th>City/County_Wandsworth</th>\n",
       "      <th>City/County_Watford</th>\n",
       "      <th>City/County_Wimbledon</th>\n",
       "      <th>City/County_Wornington Road</th>\n",
       "    </tr>\n",
       "  </thead>\n",
       "  <tbody>\n",
       "    <tr>\n",
       "      <th>0</th>\n",
       "      <td>0.239396</td>\n",
       "      <td>3.585071</td>\n",
       "      <td>0</td>\n",
       "      <td>0</td>\n",
       "      <td>1</td>\n",
       "      <td>0</td>\n",
       "      <td>0</td>\n",
       "      <td>0</td>\n",
       "      <td>0</td>\n",
       "      <td>0</td>\n",
       "      <td>...</td>\n",
       "      <td>0</td>\n",
       "      <td>0</td>\n",
       "      <td>0</td>\n",
       "      <td>0</td>\n",
       "      <td>0</td>\n",
       "      <td>0</td>\n",
       "      <td>0</td>\n",
       "      <td>0</td>\n",
       "      <td>0</td>\n",
       "      <td>0</td>\n",
       "    </tr>\n",
       "    <tr>\n",
       "      <th>1</th>\n",
       "      <td>0.239395</td>\n",
       "      <td>3.369072</td>\n",
       "      <td>0</td>\n",
       "      <td>1</td>\n",
       "      <td>0</td>\n",
       "      <td>0</td>\n",
       "      <td>0</td>\n",
       "      <td>0</td>\n",
       "      <td>0</td>\n",
       "      <td>0</td>\n",
       "      <td>...</td>\n",
       "      <td>0</td>\n",
       "      <td>0</td>\n",
       "      <td>0</td>\n",
       "      <td>0</td>\n",
       "      <td>0</td>\n",
       "      <td>0</td>\n",
       "      <td>0</td>\n",
       "      <td>0</td>\n",
       "      <td>0</td>\n",
       "      <td>0</td>\n",
       "    </tr>\n",
       "    <tr>\n",
       "      <th>2</th>\n",
       "      <td>0.239395</td>\n",
       "      <td>3.355107</td>\n",
       "      <td>0</td>\n",
       "      <td>1</td>\n",
       "      <td>0</td>\n",
       "      <td>0</td>\n",
       "      <td>0</td>\n",
       "      <td>0</td>\n",
       "      <td>0</td>\n",
       "      <td>0</td>\n",
       "      <td>...</td>\n",
       "      <td>0</td>\n",
       "      <td>0</td>\n",
       "      <td>0</td>\n",
       "      <td>0</td>\n",
       "      <td>0</td>\n",
       "      <td>0</td>\n",
       "      <td>0</td>\n",
       "      <td>0</td>\n",
       "      <td>0</td>\n",
       "      <td>0</td>\n",
       "    </tr>\n",
       "    <tr>\n",
       "      <th>3</th>\n",
       "      <td>0.239396</td>\n",
       "      <td>3.534694</td>\n",
       "      <td>0</td>\n",
       "      <td>0</td>\n",
       "      <td>1</td>\n",
       "      <td>0</td>\n",
       "      <td>0</td>\n",
       "      <td>0</td>\n",
       "      <td>0</td>\n",
       "      <td>0</td>\n",
       "      <td>...</td>\n",
       "      <td>0</td>\n",
       "      <td>0</td>\n",
       "      <td>0</td>\n",
       "      <td>0</td>\n",
       "      <td>0</td>\n",
       "      <td>0</td>\n",
       "      <td>0</td>\n",
       "      <td>0</td>\n",
       "      <td>0</td>\n",
       "      <td>0</td>\n",
       "    </tr>\n",
       "    <tr>\n",
       "      <th>4</th>\n",
       "      <td>0.239395</td>\n",
       "      <td>3.337468</td>\n",
       "      <td>0</td>\n",
       "      <td>1</td>\n",
       "      <td>0</td>\n",
       "      <td>0</td>\n",
       "      <td>0</td>\n",
       "      <td>0</td>\n",
       "      <td>0</td>\n",
       "      <td>0</td>\n",
       "      <td>...</td>\n",
       "      <td>0</td>\n",
       "      <td>0</td>\n",
       "      <td>0</td>\n",
       "      <td>0</td>\n",
       "      <td>0</td>\n",
       "      <td>0</td>\n",
       "      <td>0</td>\n",
       "      <td>0</td>\n",
       "      <td>0</td>\n",
       "      <td>0</td>\n",
       "    </tr>\n",
       "  </tbody>\n",
       "</table>\n",
       "<p>5 rows × 65 columns</p>\n",
       "</div>"
      ],
      "text/plain": [
       "      Price  Area in sq ft  House Type_Duplex  House Type_Flat / Apartment  \\\n",
       "0  0.239396       3.585071                  0                            0   \n",
       "1  0.239395       3.369072                  0                            1   \n",
       "2  0.239395       3.355107                  0                            1   \n",
       "3  0.239396       3.534694                  0                            0   \n",
       "4  0.239395       3.337468                  0                            1   \n",
       "\n",
       "   House Type_House  House Type_Mews  House Type_New development  \\\n",
       "0                 1                0                           0   \n",
       "1                 0                0                           0   \n",
       "2                 0                0                           0   \n",
       "3                 1                0                           0   \n",
       "4                 0                0                           0   \n",
       "\n",
       "   House Type_Penthouse  House Type_Studio  City/County_27 Carlton Drive  ...  \\\n",
       "0                     0                  0                             0  ...   \n",
       "1                     0                  0                             0  ...   \n",
       "2                     0                  0                             0  ...   \n",
       "3                     0                  0                             0  ...   \n",
       "4                     0                  0                             0  ...   \n",
       "\n",
       "   City/County_Surrey  City/County_Surrey Quays  City/County_Thames Ditton  \\\n",
       "0                   0                         0                          0   \n",
       "1                   0                         0                          0   \n",
       "2                   0                         0                          0   \n",
       "3                   0                         0                          0   \n",
       "4                   0                         0                          0   \n",
       "\n",
       "   City/County_The Metal Works  City/County_Thurleigh Road  \\\n",
       "0                            0                           0   \n",
       "1                            0                           0   \n",
       "2                            0                           0   \n",
       "3                            0                           0   \n",
       "4                            0                           0   \n",
       "\n",
       "   City/County_Twickenham  City/County_Wandsworth  City/County_Watford  \\\n",
       "0                       0                       0                    0   \n",
       "1                       0                       0                    0   \n",
       "2                       0                       0                    0   \n",
       "3                       0                       0                    0   \n",
       "4                       0                       0                    0   \n",
       "\n",
       "   City/County_Wimbledon  City/County_Wornington Road  \n",
       "0                      0                            0  \n",
       "1                      0                            0  \n",
       "2                      0                            0  \n",
       "3                      0                            0  \n",
       "4                      0                            0  \n",
       "\n",
       "[5 rows x 65 columns]"
      ]
     },
     "execution_count": 53,
     "metadata": {},
     "output_type": "execute_result"
    }
   ],
   "source": [
    "london2.head()"
   ]
  },
  {
   "cell_type": "code",
   "execution_count": 54,
   "metadata": {},
   "outputs": [],
   "source": [
    "X2 = london2.drop(['Price'], axis = 1)\n",
    "Y2 = london2['Price']"
   ]
  },
  {
   "cell_type": "code",
   "execution_count": 55,
   "metadata": {},
   "outputs": [
    {
     "name": "stdout",
     "output_type": "stream",
     "text": [
      "The data shape of X2 is (3480, 64).\n",
      "The number of samples in this data set is 3480.\n",
      "The number of feature in this data set is 64.\n"
     ]
    }
   ],
   "source": [
    "print(\"The data shape of X2 is {}.\".format(X2.shape))\n",
    "\n",
    "print(\"The number of samples in this data set is {}.\".format(X2.shape[0]))\n",
    "\n",
    "print(\"The number of feature in this data set is {}.\".format(X2.shape[1]))"
   ]
  },
  {
   "cell_type": "code",
   "execution_count": 56,
   "metadata": {},
   "outputs": [
    {
     "name": "stdout",
     "output_type": "stream",
     "text": [
      "The data shape of Y2 is (3480,).\n"
     ]
    }
   ],
   "source": [
    "print(\"The data shape of Y2 is {}.\".format(Y2.shape))"
   ]
  },
  {
   "cell_type": "markdown",
   "metadata": {},
   "source": [
    "##### Splitting data to train and test"
   ]
  },
  {
   "cell_type": "code",
   "execution_count": 57,
   "metadata": {},
   "outputs": [],
   "source": [
    "from sklearn.model_selection import train_test_split\n",
    "train_x2, test_x2, train_y2, test_y2 = train_test_split(X2, Y2, test_size = 0.2, random_state = 0)"
   ]
  },
  {
   "cell_type": "code",
   "execution_count": 58,
   "metadata": {},
   "outputs": [
    {
     "name": "stdout",
     "output_type": "stream",
     "text": [
      "The Mean Squared Error (MSE) is 7.857803133020396e-14\n",
      "\n",
      "The Model score (coefficient of determination) for the test data set is  0.7510464257662557\n",
      "\n",
      "The Model score (coefficient of determination) for the train data set is  0.7867366262207764\n",
      "\n",
      "The Mean Absolute Error (MAE) is  2.1991941837685846e-07\n",
      "\n",
      "The Root Mean Square Error (RMSE) is  2.8031773281439755e-07\n",
      "\n",
      "The original and predicted prices are as below;\n",
      "\n",
      "      original  predicted\n",
      "984   0.239395   0.239395\n",
      "1296  0.239396   0.239396\n",
      "1428  0.239396   0.239396\n",
      "1299  0.239394   0.239395\n",
      "2270  0.239396   0.239396\n",
      "...        ...        ...\n",
      "3179  0.239395   0.239395\n",
      "2347  0.239394   0.239395\n",
      "3202  0.239395   0.239395\n",
      "918   0.239396   0.239395\n",
      "3470  0.239397   0.239396\n",
      "\n",
      "[696 rows x 2 columns]\n"
     ]
    }
   ],
   "source": [
    "from sklearn.linear_model import LinearRegression\n",
    "from sklearn.metrics import mean_absolute_error\n",
    "from sklearn.metrics import mean_squared_error\n",
    "import sklearn.metrics as metrics\n",
    "import math\n",
    "\n",
    "mlr = LinearRegression()\n",
    "mlr.fit(train_x2, train_y2)\n",
    "mlrpred_y = mlr.predict(test_x2)\n",
    "mlr_mse = metrics.mean_squared_error(test_y2, mlrpred_y)\n",
    "\n",
    "print(\"The Mean Squared Error (MSE) is {}\".format(mlr_mse))\n",
    "print()\n",
    "print(\"The Model score (coefficient of determination) for the test data set is \", mlr.score(test_x2,test_y2))\n",
    "print()\n",
    "print(\"The Model score (coefficient of determination) for the train data set is \", mlr.score(train_x2,train_y2))\n",
    "print()\n",
    "print(\"The Mean Absolute Error (MAE) is \", mean_absolute_error(test_y2, mlrpred_y))\n",
    "print()\n",
    "print(\"The Root Mean Square Error (RMSE) is \", math.sqrt(mean_squared_error(test_y2, mlrpred_y)))\n",
    "print()\n",
    "\n",
    "df2 = pd.DataFrame()\n",
    "df2['original']= test_y2\n",
    "df2['predicted'] = mlrpred_y\n",
    "print('The original and predicted prices are as below;')\n",
    "print()\n",
    "print(df2)"
   ]
  },
  {
   "cell_type": "markdown",
   "metadata": {},
   "source": [
    "## SECTION 4: MODEL COMPARISON AND EVALUATION"
   ]
  },
  {
   "cell_type": "code",
   "execution_count": 59,
   "metadata": {},
   "outputs": [
    {
     "data": {
      "image/png": "[encoded data removed]",
      "text/plain": [
       "<Figure size 864x1440 with 1 Axes>"
      ]
     },
     "metadata": {},
     "output_type": "display_data"
    }
   ],
   "source": [
    "import matplotlib\n",
    "\n",
    "lr_df = pd.DataFrame(data=[lr.score(train_x,train_y), lr.score(test_x,test_y), metrics.mean_squared_error(test_y, lrpred_y), mean_absolute_error(test_y, lrpred_y), math.sqrt(mean_squared_error(test_y, lrpred_y))], columns=['Simple Linear Regression'], index=[\"Train Score\", \"Test Score\", \"MSE\", \"MAE\", \"RMSE\"])\n",
    "mlf_df = pd.DataFrame(data=[mlr.score(train_x2,train_y2),mlr.score(test_x2,test_y2),metrics.mean_squared_error(test_y2, mlrpred_y), mean_absolute_error(test_y2, mlrpred_y), math.sqrt(mean_squared_error(test_y2, mlrpred_y))], columns=['Multi Linear Regression'],index=[\"Train Score\", \"Test Score\", \"MSE\", \"MAE\", \"RMSE\"])\n",
    "\n",
    "\n",
    "#df_models = round(pd.concat([lr_df,mlf_df], axis=1), 3)\n",
    "df_models = pd.concat([lr_df,mlf_df], axis=1)\n",
    "colors = [\"bisque\",\"ivory\"]\n",
    "colormap = matplotlib.colors.LinearSegmentedColormap.from_list(\"\", colors)\n",
    "\n",
    "background_color = \"white\"\n",
    "\n",
    "fig = plt.figure(figsize=(12, 20))\n",
    "gs = fig.add_gridspec(4, 2)\n",
    "gs.update(wspace=0.1, hspace=0.5)\n",
    "ax0 = fig.add_subplot(gs[0, :])\n",
    "\n",
    "sns.heatmap(df_models.T, cmap = colormap, annot=True, vmin=0, vmax=0.95, linewidths=2.5, cbar=False, ax=ax0, annot_kws={\"fontsize\":16})\n",
    "fig.patch.set_facecolor(background_color)\n",
    "ax0.set_facecolor(background_color) \n",
    "\n",
    "ax0.text(0,-0.5,'Model Comparison', fontsize=20, fontweight='bold', fontfamily='serif')\n",
    "plt.show()"
   ]
  },
  {
   "cell_type": "markdown",
   "metadata": {},
   "source": [
    "From the plot above, it is obvious that the train score for both algorithms is higher than the test score (overfitting). However, multiple linear regression is the better algorithm for this data set. "
   ]
  }
 ],
 "metadata": {
  "kernelspec": {
   "display_name": "Python 3",
   "language": "python",
   "name": "python3"
  },
  "language_info": {
   "codemirror_mode": {
    "name": "ipython",
    "version": 3
   },
   "file_extension": ".py",
   "mimetype": "text/x-python",
   "name": "python",
   "nbconvert_exporter": "python",
   "pygments_lexer": "ipython3",
   "version": "3.7.6"
  }
 },
 "nbformat": 4,
 "nbformat_minor": 4
}
